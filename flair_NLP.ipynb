{
  "cells": [
    {
      "cell_type": "code",
      "execution_count": null,
      "metadata": {
        "colab": {
          "base_uri": "https://localhost:8080/"
        },
        "id": "4FkPjdDX7iIT",
        "outputId": "cdd5d8e9-9594-40c5-db8f-2b8358a924fc"
      },
      "outputs": [
        {
          "output_type": "stream",
          "name": "stdout",
          "text": [
            "Collecting flair\n",
            "  Downloading flair-0.11-py3-none-any.whl (400 kB)\n",
            "\u001b[?25l\r\u001b[K     |▉                               | 10 kB 19.8 MB/s eta 0:00:01\r\u001b[K     |█▋                              | 20 kB 26.2 MB/s eta 0:00:01\r\u001b[K     |██▌                             | 30 kB 9.5 MB/s eta 0:00:01\r\u001b[K     |███▎                            | 40 kB 11.6 MB/s eta 0:00:01\r\u001b[K     |████                            | 51 kB 7.8 MB/s eta 0:00:01\r\u001b[K     |█████                           | 61 kB 9.1 MB/s eta 0:00:01\r\u001b[K     |█████▊                          | 71 kB 7.5 MB/s eta 0:00:01\r\u001b[K     |██████▌                         | 81 kB 7.9 MB/s eta 0:00:01\r\u001b[K     |███████▍                        | 92 kB 8.7 MB/s eta 0:00:01\r\u001b[K     |████████▏                       | 102 kB 8.4 MB/s eta 0:00:01\r\u001b[K     |█████████                       | 112 kB 8.4 MB/s eta 0:00:01\r\u001b[K     |█████████▉                      | 122 kB 8.4 MB/s eta 0:00:01\r\u001b[K     |██████████▋                     | 133 kB 8.4 MB/s eta 0:00:01\r\u001b[K     |███████████▌                    | 143 kB 8.4 MB/s eta 0:00:01\r\u001b[K     |████████████▎                   | 153 kB 8.4 MB/s eta 0:00:01\r\u001b[K     |█████████████                   | 163 kB 8.4 MB/s eta 0:00:01\r\u001b[K     |██████████████                  | 174 kB 8.4 MB/s eta 0:00:01\r\u001b[K     |██████████████▊                 | 184 kB 8.4 MB/s eta 0:00:01\r\u001b[K     |███████████████▌                | 194 kB 8.4 MB/s eta 0:00:01\r\u001b[K     |████████████████▍               | 204 kB 8.4 MB/s eta 0:00:01\r\u001b[K     |█████████████████▏              | 215 kB 8.4 MB/s eta 0:00:01\r\u001b[K     |██████████████████              | 225 kB 8.4 MB/s eta 0:00:01\r\u001b[K     |██████████████████▉             | 235 kB 8.4 MB/s eta 0:00:01\r\u001b[K     |███████████████████▋            | 245 kB 8.4 MB/s eta 0:00:01\r\u001b[K     |████████████████████▍           | 256 kB 8.4 MB/s eta 0:00:01\r\u001b[K     |█████████████████████▎          | 266 kB 8.4 MB/s eta 0:00:01\r\u001b[K     |██████████████████████          | 276 kB 8.4 MB/s eta 0:00:01\r\u001b[K     |███████████████████████         | 286 kB 8.4 MB/s eta 0:00:01\r\u001b[K     |███████████████████████▊        | 296 kB 8.4 MB/s eta 0:00:01\r\u001b[K     |████████████████████████▌       | 307 kB 8.4 MB/s eta 0:00:01\r\u001b[K     |█████████████████████████▍      | 317 kB 8.4 MB/s eta 0:00:01\r\u001b[K     |██████████████████████████▏     | 327 kB 8.4 MB/s eta 0:00:01\r\u001b[K     |███████████████████████████     | 337 kB 8.4 MB/s eta 0:00:01\r\u001b[K     |███████████████████████████▉    | 348 kB 8.4 MB/s eta 0:00:01\r\u001b[K     |████████████████████████████▋   | 358 kB 8.4 MB/s eta 0:00:01\r\u001b[K     |█████████████████████████████▍  | 368 kB 8.4 MB/s eta 0:00:01\r\u001b[K     |██████████████████████████████▎ | 378 kB 8.4 MB/s eta 0:00:01\r\u001b[K     |███████████████████████████████ | 389 kB 8.4 MB/s eta 0:00:01\r\u001b[K     |████████████████████████████████| 399 kB 8.4 MB/s eta 0:00:01\r\u001b[K     |████████████████████████████████| 400 kB 8.4 MB/s \n",
            "\u001b[?25hCollecting pptree\n",
            "  Downloading pptree-3.1.tar.gz (3.0 kB)\n",
            "Requirement already satisfied: torch!=1.8,>=1.5.0 in /usr/local/lib/python3.7/dist-packages (from flair) (1.10.0+cu111)\n",
            "Collecting conllu>=4.0\n",
            "  Downloading conllu-4.4.1-py2.py3-none-any.whl (15 kB)\n",
            "Collecting gdown==3.12.2\n",
            "  Downloading gdown-3.12.2.tar.gz (8.2 kB)\n",
            "  Installing build dependencies ... \u001b[?25l\u001b[?25hdone\n",
            "  Getting requirements to build wheel ... \u001b[?25l\u001b[?25hdone\n",
            "    Preparing wheel metadata ... \u001b[?25l\u001b[?25hdone\n",
            "Requirement already satisfied: matplotlib>=2.2.3 in /usr/local/lib/python3.7/dist-packages (from flair) (3.2.2)\n",
            "Collecting segtok>=1.5.7\n",
            "  Downloading segtok-1.5.11-py3-none-any.whl (24 kB)\n",
            "Requirement already satisfied: tabulate in /usr/local/lib/python3.7/dist-packages (from flair) (0.8.9)\n",
            "Collecting hyperopt>=0.2.7\n",
            "  Downloading hyperopt-0.2.7-py2.py3-none-any.whl (1.6 MB)\n",
            "\u001b[K     |████████████████████████████████| 1.6 MB 55.2 MB/s \n",
            "\u001b[?25hRequirement already satisfied: gensim>=3.4.0 in /usr/local/lib/python3.7/dist-packages (from flair) (3.6.0)\n",
            "Collecting langdetect\n",
            "  Downloading langdetect-1.0.9.tar.gz (981 kB)\n",
            "\u001b[K     |████████████████████████████████| 981 kB 43.4 MB/s \n",
            "\u001b[?25hCollecting janome\n",
            "  Downloading Janome-0.4.2-py2.py3-none-any.whl (19.7 MB)\n",
            "\u001b[K     |████████████████████████████████| 19.7 MB 7.3 MB/s \n",
            "\u001b[?25hCollecting bpemb>=0.3.2\n",
            "  Downloading bpemb-0.3.3-py3-none-any.whl (19 kB)\n",
            "Collecting konoha<5.0.0,>=4.0.0\n",
            "  Downloading konoha-4.6.5-py3-none-any.whl (20 kB)\n",
            "Requirement already satisfied: tqdm>=4.26.0 in /usr/local/lib/python3.7/dist-packages (from flair) (4.63.0)\n",
            "Requirement already satisfied: lxml in /usr/local/lib/python3.7/dist-packages (from flair) (4.2.6)\n",
            "Collecting ftfy\n",
            "  Downloading ftfy-6.1.1-py3-none-any.whl (53 kB)\n",
            "\u001b[K     |████████████████████████████████| 53 kB 1.7 MB/s \n",
            "\u001b[?25hCollecting deprecated>=1.2.4\n",
            "  Downloading Deprecated-1.2.13-py2.py3-none-any.whl (9.6 kB)\n",
            "Requirement already satisfied: python-dateutil>=2.6.1 in /usr/local/lib/python3.7/dist-packages (from flair) (2.8.2)\n",
            "Collecting sqlitedict>=1.6.0\n",
            "  Downloading sqlitedict-2.0.0.tar.gz (46 kB)\n",
            "\u001b[K     |████████████████████████████████| 46 kB 4.0 MB/s \n",
            "\u001b[?25hRequirement already satisfied: regex in /usr/local/lib/python3.7/dist-packages (from flair) (2019.12.20)\n",
            "Collecting huggingface-hub\n",
            "  Downloading huggingface_hub-0.5.1-py3-none-any.whl (77 kB)\n",
            "\u001b[K     |████████████████████████████████| 77 kB 6.1 MB/s \n",
            "\u001b[?25hRequirement already satisfied: scikit-learn>=0.21.3 in /usr/local/lib/python3.7/dist-packages (from flair) (1.0.2)\n",
            "Collecting mpld3==0.3\n",
            "  Downloading mpld3-0.3.tar.gz (788 kB)\n",
            "\u001b[K     |████████████████████████████████| 788 kB 55.2 MB/s \n",
            "\u001b[?25hCollecting transformers>=4.0.0\n",
            "  Downloading transformers-4.18.0-py3-none-any.whl (4.0 MB)\n",
            "\u001b[K     |████████████████████████████████| 4.0 MB 35.3 MB/s \n",
            "\u001b[?25hCollecting more-itertools~=8.8.0\n",
            "  Downloading more_itertools-8.8.0-py3-none-any.whl (48 kB)\n",
            "\u001b[K     |████████████████████████████████| 48 kB 5.8 MB/s \n",
            "\u001b[?25hCollecting wikipedia-api\n",
            "  Downloading Wikipedia-API-0.5.4.tar.gz (18 kB)\n",
            "Collecting sentencepiece==0.1.95\n",
            "  Downloading sentencepiece-0.1.95-cp37-cp37m-manylinux2014_x86_64.whl (1.2 MB)\n",
            "\u001b[K     |████████████████████████████████| 1.2 MB 50.3 MB/s \n",
            "\u001b[?25hRequirement already satisfied: filelock in /usr/local/lib/python3.7/dist-packages (from gdown==3.12.2->flair) (3.6.0)\n",
            "Requirement already satisfied: six in /usr/local/lib/python3.7/dist-packages (from gdown==3.12.2->flair) (1.15.0)\n",
            "Requirement already satisfied: requests[socks] in /usr/local/lib/python3.7/dist-packages (from gdown==3.12.2->flair) (2.23.0)\n",
            "Requirement already satisfied: numpy in /usr/local/lib/python3.7/dist-packages (from bpemb>=0.3.2->flair) (1.21.5)\n",
            "Requirement already satisfied: wrapt<2,>=1.10 in /usr/local/lib/python3.7/dist-packages (from deprecated>=1.2.4->flair) (1.14.0)\n",
            "Requirement already satisfied: scipy>=0.18.1 in /usr/local/lib/python3.7/dist-packages (from gensim>=3.4.0->flair) (1.4.1)\n",
            "Requirement already satisfied: smart-open>=1.2.1 in /usr/local/lib/python3.7/dist-packages (from gensim>=3.4.0->flair) (5.2.1)\n",
            "Requirement already satisfied: networkx>=2.2 in /usr/local/lib/python3.7/dist-packages (from hyperopt>=0.2.7->flair) (2.6.3)\n",
            "Requirement already satisfied: cloudpickle in /usr/local/lib/python3.7/dist-packages (from hyperopt>=0.2.7->flair) (1.3.0)\n",
            "Requirement already satisfied: future in /usr/local/lib/python3.7/dist-packages (from hyperopt>=0.2.7->flair) (0.16.0)\n",
            "Collecting py4j\n",
            "  Downloading py4j-0.10.9.5-py2.py3-none-any.whl (199 kB)\n",
            "\u001b[K     |████████████████████████████████| 199 kB 54.3 MB/s \n",
            "\u001b[?25hCollecting importlib-metadata<4.0.0,>=3.7.0\n",
            "  Downloading importlib_metadata-3.10.1-py3-none-any.whl (14 kB)\n",
            "Collecting requests\n",
            "  Downloading requests-2.27.1-py2.py3-none-any.whl (63 kB)\n",
            "\u001b[K     |████████████████████████████████| 63 kB 2.0 MB/s \n",
            "\u001b[?25hCollecting overrides<4.0.0,>=3.0.0\n",
            "  Downloading overrides-3.1.0.tar.gz (11 kB)\n",
            "Requirement already satisfied: zipp>=0.5 in /usr/local/lib/python3.7/dist-packages (from importlib-metadata<4.0.0,>=3.7.0->konoha<5.0.0,>=4.0.0->flair) (3.7.0)\n",
            "Requirement already satisfied: typing-extensions>=3.6.4 in /usr/local/lib/python3.7/dist-packages (from importlib-metadata<4.0.0,>=3.7.0->konoha<5.0.0,>=4.0.0->flair) (3.10.0.2)\n",
            "Requirement already satisfied: pyparsing!=2.0.4,!=2.1.2,!=2.1.6,>=2.0.1 in /usr/local/lib/python3.7/dist-packages (from matplotlib>=2.2.3->flair) (3.0.7)\n",
            "Requirement already satisfied: cycler>=0.10 in /usr/local/lib/python3.7/dist-packages (from matplotlib>=2.2.3->flair) (0.11.0)\n",
            "Requirement already satisfied: kiwisolver>=1.0.1 in /usr/local/lib/python3.7/dist-packages (from matplotlib>=2.2.3->flair) (1.4.0)\n",
            "Requirement already satisfied: idna<4,>=2.5 in /usr/local/lib/python3.7/dist-packages (from requests->bpemb>=0.3.2->flair) (2.10)\n",
            "Requirement already satisfied: charset-normalizer~=2.0.0 in /usr/local/lib/python3.7/dist-packages (from requests->bpemb>=0.3.2->flair) (2.0.12)\n",
            "Requirement already satisfied: urllib3<1.27,>=1.21.1 in /usr/local/lib/python3.7/dist-packages (from requests->bpemb>=0.3.2->flair) (1.24.3)\n",
            "Requirement already satisfied: certifi>=2017.4.17 in /usr/local/lib/python3.7/dist-packages (from requests->bpemb>=0.3.2->flair) (2021.10.8)\n",
            "Requirement already satisfied: joblib>=0.11 in /usr/local/lib/python3.7/dist-packages (from scikit-learn>=0.21.3->flair) (1.1.0)\n",
            "Requirement already satisfied: threadpoolctl>=2.0.0 in /usr/local/lib/python3.7/dist-packages (from scikit-learn>=0.21.3->flair) (3.1.0)\n",
            "Collecting pyyaml>=5.1\n",
            "  Downloading PyYAML-6.0-cp37-cp37m-manylinux_2_5_x86_64.manylinux1_x86_64.manylinux_2_12_x86_64.manylinux2010_x86_64.whl (596 kB)\n",
            "\u001b[K     |████████████████████████████████| 596 kB 45.2 MB/s \n",
            "\u001b[?25hCollecting sacremoses\n",
            "  Downloading sacremoses-0.0.49-py3-none-any.whl (895 kB)\n",
            "\u001b[K     |████████████████████████████████| 895 kB 55.8 MB/s \n",
            "\u001b[?25hRequirement already satisfied: packaging>=20.0 in /usr/local/lib/python3.7/dist-packages (from transformers>=4.0.0->flair) (21.3)\n",
            "Collecting tokenizers!=0.11.3,<0.13,>=0.11.1\n",
            "  Downloading tokenizers-0.11.6-cp37-cp37m-manylinux_2_12_x86_64.manylinux2010_x86_64.whl (6.5 MB)\n",
            "\u001b[K     |████████████████████████████████| 6.5 MB 41.4 MB/s \n",
            "\u001b[?25hRequirement already satisfied: wcwidth>=0.2.5 in /usr/local/lib/python3.7/dist-packages (from ftfy->flair) (0.2.5)\n",
            "Requirement already satisfied: PySocks!=1.5.7,>=1.5.6 in /usr/local/lib/python3.7/dist-packages (from requests->bpemb>=0.3.2->flair) (1.7.1)\n",
            "Requirement already satisfied: click in /usr/local/lib/python3.7/dist-packages (from sacremoses->transformers>=4.0.0->flair) (7.1.2)\n",
            "Building wheels for collected packages: gdown, mpld3, overrides, sqlitedict, langdetect, pptree, wikipedia-api\n",
            "  Building wheel for gdown (PEP 517) ... \u001b[?25l\u001b[?25hdone\n",
            "  Created wheel for gdown: filename=gdown-3.12.2-py3-none-any.whl size=9692 sha256=026a8600f8078b4f65e11cc10d426361596b6edb016849aa0fa2a9760abed31e\n",
            "  Stored in directory: /root/.cache/pip/wheels/ba/e0/7e/726e872a53f7358b4b96a9975b04e98113b005cd8609a63abc\n",
            "  Building wheel for mpld3 (setup.py) ... \u001b[?25l\u001b[?25hdone\n",
            "  Created wheel for mpld3: filename=mpld3-0.3-py3-none-any.whl size=116702 sha256=adb03c68f3de6b01a95c5155b872526b9c085db51287f8574ece6ee4870d890b\n",
            "  Stored in directory: /root/.cache/pip/wheels/26/70/6a/1c79e59951a41b4045497da187b2724f5659ca64033cf4548e\n",
            "  Building wheel for overrides (setup.py) ... \u001b[?25l\u001b[?25hdone\n",
            "  Created wheel for overrides: filename=overrides-3.1.0-py3-none-any.whl size=10187 sha256=750ce8929721790d6bd645e74b573b9a366bc3c460817106303ed7f79e83ddbd\n",
            "  Stored in directory: /root/.cache/pip/wheels/3a/0d/38/01a9bc6e20dcfaf0a6a7b552d03137558ba1c38aea47644682\n",
            "  Building wheel for sqlitedict (setup.py) ... \u001b[?25l\u001b[?25hdone\n",
            "  Created wheel for sqlitedict: filename=sqlitedict-2.0.0-py3-none-any.whl size=15736 sha256=87c0468f0e96fbf5a7a3e0e6a37ccc6a0233dbf8fbd6f8941bae6881082281e9\n",
            "  Stored in directory: /root/.cache/pip/wheels/96/dd/2e/0ed4a25cb73fc30c7ea8d10b50acb7226175736067e40a7ea3\n",
            "  Building wheel for langdetect (setup.py) ... \u001b[?25l\u001b[?25hdone\n",
            "  Created wheel for langdetect: filename=langdetect-1.0.9-py3-none-any.whl size=993242 sha256=8474f06cde75892be85a8766f9d3be24d0ed4ca0e63c1ca0a77604fafcd894e9\n",
            "  Stored in directory: /root/.cache/pip/wheels/c5/96/8a/f90c59ed25d75e50a8c10a1b1c2d4c402e4dacfa87f3aff36a\n",
            "  Building wheel for pptree (setup.py) ... \u001b[?25l\u001b[?25hdone\n",
            "  Created wheel for pptree: filename=pptree-3.1-py3-none-any.whl size=4629 sha256=5ed32f051c68eb70b8ef4d56a3fc99a7a95157c037ed9e49a0b1dc0f1113fd49\n",
            "  Stored in directory: /root/.cache/pip/wheels/9e/e8/7d/a9c3c19b4722608a0d8b05a38c36bc3f230c43becd2a46794b\n",
            "  Building wheel for wikipedia-api (setup.py) ... \u001b[?25l\u001b[?25hdone\n",
            "  Created wheel for wikipedia-api: filename=Wikipedia_API-0.5.4-py3-none-any.whl size=13477 sha256=8a690de3a3df643f86db01eefea7aef95736c26f10644cf3f6f6b13f2e799f37\n",
            "  Stored in directory: /root/.cache/pip/wheels/d3/24/56/58ba93cf78be162451144e7a9889603f437976ef1ae7013d04\n",
            "Successfully built gdown mpld3 overrides sqlitedict langdetect pptree wikipedia-api\n",
            "Installing collected packages: requests, pyyaml, importlib-metadata, tokenizers, sentencepiece, sacremoses, py4j, overrides, huggingface-hub, wikipedia-api, transformers, sqlitedict, segtok, pptree, mpld3, more-itertools, langdetect, konoha, janome, hyperopt, gdown, ftfy, deprecated, conllu, bpemb, flair\n",
            "  Attempting uninstall: requests\n",
            "    Found existing installation: requests 2.23.0\n",
            "    Uninstalling requests-2.23.0:\n",
            "      Successfully uninstalled requests-2.23.0\n",
            "  Attempting uninstall: pyyaml\n",
            "    Found existing installation: PyYAML 3.13\n",
            "    Uninstalling PyYAML-3.13:\n",
            "      Successfully uninstalled PyYAML-3.13\n",
            "  Attempting uninstall: importlib-metadata\n",
            "    Found existing installation: importlib-metadata 4.11.3\n",
            "    Uninstalling importlib-metadata-4.11.3:\n",
            "      Successfully uninstalled importlib-metadata-4.11.3\n",
            "  Attempting uninstall: more-itertools\n",
            "    Found existing installation: more-itertools 8.12.0\n",
            "    Uninstalling more-itertools-8.12.0:\n",
            "      Successfully uninstalled more-itertools-8.12.0\n",
            "  Attempting uninstall: hyperopt\n",
            "    Found existing installation: hyperopt 0.1.2\n",
            "    Uninstalling hyperopt-0.1.2:\n",
            "      Successfully uninstalled hyperopt-0.1.2\n",
            "  Attempting uninstall: gdown\n",
            "    Found existing installation: gdown 4.2.2\n",
            "    Uninstalling gdown-4.2.2:\n",
            "      Successfully uninstalled gdown-4.2.2\n",
            "\u001b[31mERROR: pip's dependency resolver does not currently take into account all the packages that are installed. This behaviour is the source of the following dependency conflicts.\n",
            "markdown 3.3.6 requires importlib-metadata>=4.4; python_version < \"3.10\", but you have importlib-metadata 3.10.1 which is incompatible.\n",
            "google-colab 1.0.0 requires requests~=2.23.0, but you have requests 2.27.1 which is incompatible.\n",
            "datascience 0.10.6 requires folium==0.2.1, but you have folium 0.8.3 which is incompatible.\u001b[0m\n",
            "Successfully installed bpemb-0.3.3 conllu-4.4.1 deprecated-1.2.13 flair-0.11 ftfy-6.1.1 gdown-3.12.2 huggingface-hub-0.5.1 hyperopt-0.2.7 importlib-metadata-3.10.1 janome-0.4.2 konoha-4.6.5 langdetect-1.0.9 more-itertools-8.8.0 mpld3-0.3 overrides-3.1.0 pptree-3.1 py4j-0.10.9.5 pyyaml-6.0 requests-2.27.1 sacremoses-0.0.49 segtok-1.5.11 sentencepiece-0.1.95 sqlitedict-2.0.0 tokenizers-0.11.6 transformers-4.18.0 wikipedia-api-0.5.4\n"
          ]
        }
      ],
      "source": [
        "!pip install flair"
      ]
    },
    {
      "cell_type": "code",
      "execution_count": null,
      "metadata": {
        "colab": {
          "base_uri": "https://localhost:8080/"
        },
        "id": "ebLRfievBBI1",
        "outputId": "10107c30-127d-4886-ecb8-43b051b94476"
      },
      "outputs": [
        {
          "output_type": "stream",
          "name": "stdout",
          "text": [
            "2022-04-07 04:44:35,300 https://flair.informatik.hu-berlin.de/resources/embeddings/token/glove.gensim.vectors.npy not found in cache, downloading to /tmp/tmpjz0xwd2p\n"
          ]
        },
        {
          "output_type": "stream",
          "name": "stderr",
          "text": [
            "100%|██████████| 160000128/160000128 [00:09<00:00, 16378239.14B/s]"
          ]
        },
        {
          "output_type": "stream",
          "name": "stdout",
          "text": [
            "2022-04-07 04:44:45,586 copying /tmp/tmpjz0xwd2p to cache at /root/.flair/embeddings/glove.gensim.vectors.npy\n"
          ]
        },
        {
          "output_type": "stream",
          "name": "stderr",
          "text": [
            "\n"
          ]
        },
        {
          "output_type": "stream",
          "name": "stdout",
          "text": [
            "2022-04-07 04:44:45,912 removing temp file /tmp/tmpjz0xwd2p\n",
            "2022-04-07 04:44:46,421 https://flair.informatik.hu-berlin.de/resources/embeddings/token/glove.gensim not found in cache, downloading to /tmp/tmp3z0623az\n"
          ]
        },
        {
          "output_type": "stream",
          "name": "stderr",
          "text": [
            "100%|██████████| 21494764/21494764 [00:02<00:00, 9197099.94B/s] "
          ]
        },
        {
          "output_type": "stream",
          "name": "stdout",
          "text": [
            "2022-04-07 04:44:49,564 copying /tmp/tmp3z0623az to cache at /root/.flair/embeddings/glove.gensim\n",
            "2022-04-07 04:44:49,589 removing temp file /tmp/tmp3z0623az\n"
          ]
        },
        {
          "output_type": "stream",
          "name": "stderr",
          "text": [
            "\n"
          ]
        }
      ],
      "source": [
        "from flair.embeddings import WordEmbeddings\n",
        "from flair.data import Sentence\n",
        "\n",
        "# init embedding\n",
        "glove_embedding = WordEmbeddings('glove')"
      ]
    },
    {
      "cell_type": "code",
      "execution_count": null,
      "metadata": {
        "colab": {
          "base_uri": "https://localhost:8080/"
        },
        "id": "k-JfwS0YBN9S",
        "outputId": "4325b288-91de-4326-cdff-f994e131fe8e"
      },
      "outputs": [
        {
          "output_type": "stream",
          "name": "stdout",
          "text": [
            "Token[0]: \"The\"\n",
            "tensor([-0.0382, -0.2449,  0.7281, -0.3996,  0.0832,  0.0440, -0.3914,  0.3344,\n",
            "        -0.5755,  0.0875,  0.2879, -0.0673,  0.3091, -0.2638, -0.1323, -0.2076,\n",
            "         0.3340, -0.3385, -0.3174, -0.4834,  0.1464, -0.3730,  0.3458,  0.0520,\n",
            "         0.4495, -0.4697,  0.0263, -0.5415, -0.1552, -0.1411, -0.0397,  0.2828,\n",
            "         0.1439,  0.2346, -0.3102,  0.0862,  0.2040,  0.5262,  0.1716, -0.0824,\n",
            "        -0.7179, -0.4153,  0.2033, -0.1276,  0.4137,  0.5519,  0.5791, -0.3348,\n",
            "        -0.3656, -0.5486, -0.0629,  0.2658,  0.3020,  0.9977, -0.8048, -3.0243,\n",
            "         0.0125, -0.3694,  2.2167,  0.7220, -0.2498,  0.9214,  0.0345,  0.4674,\n",
            "         1.1079, -0.1936, -0.0746,  0.2335, -0.0521, -0.2204,  0.0572, -0.1581,\n",
            "        -0.3080, -0.4162,  0.3797,  0.1501, -0.5321, -0.2055, -1.2526,  0.0716,\n",
            "         0.7056,  0.4974, -0.4206,  0.2615, -1.5380, -0.3022, -0.0734, -0.2831,\n",
            "         0.3710, -0.2522,  0.0162, -0.0171, -0.3898,  0.8742, -0.7257, -0.5106,\n",
            "        -0.5203, -0.1459,  0.8278,  0.2706])\n",
            "Token[1]: \"grass\"\n",
            "tensor([-0.8135,  0.9404, -0.2405, -0.1350,  0.0557,  0.3363,  0.0802, -0.1015,\n",
            "        -0.5478, -0.3537,  0.0734,  0.2587,  0.1987, -0.1433,  0.2507,  0.4281,\n",
            "         0.1950,  0.5346,  0.7424,  0.0578, -0.3178,  0.9436,  0.8145, -0.0824,\n",
            "         0.6166,  0.7284, -0.3262, -1.3641,  0.1232,  0.5373, -0.5123,  0.0246,\n",
            "         1.0822, -0.2296,  0.6039,  0.5541, -0.9610,  0.4803,  0.0022,  0.5591,\n",
            "        -0.1637, -0.8468,  0.0741, -0.6216,  0.0260, -0.5162, -0.0525, -0.1418,\n",
            "        -0.0161, -0.4972, -0.5534, -0.4037,  0.5096,  1.0276, -0.0840, -1.1179,\n",
            "         0.3226,  0.4928,  0.9488,  0.2040,  0.5388,  0.8397, -0.0689,  0.3136,\n",
            "         1.0450, -0.2267, -0.0896, -0.6427,  0.6443, -1.1001, -0.0096,  0.2668,\n",
            "        -0.3230, -0.6065,  0.0479, -0.1664,  0.8571,  0.2335,  0.2539,  1.2546,\n",
            "         0.5472, -0.1980, -0.7186,  0.2076, -0.2587, -0.3650,  0.0834,  0.6932,\n",
            "         0.1574,  1.0931,  0.0913, -1.3773, -0.2717,  0.7071,  0.1872, -0.3307,\n",
            "        -0.2836,  0.1030,  1.2228,  0.8374])\n",
            "Token[2]: \"is\"\n",
            "tensor([-0.5426,  0.4148,  1.0322, -0.4024,  0.4669,  0.2182, -0.0749,  0.4733,\n",
            "         0.0810, -0.2208, -0.1281, -0.1144,  0.5089,  0.1157,  0.0282, -0.3628,\n",
            "         0.4382,  0.0475,  0.2028,  0.4986, -0.1007,  0.1327,  0.1697,  0.1165,\n",
            "         0.3135,  0.2571,  0.0928, -0.5683, -0.5297, -0.0515, -0.6733,  0.9253,\n",
            "         0.2693,  0.2273,  0.6636,  0.2622,  0.1972,  0.2609,  0.1877, -0.3454,\n",
            "        -0.4263,  0.1398,  0.5634, -0.5691,  0.1240, -0.1289,  0.7248, -0.2610,\n",
            "        -0.2631, -0.4360,  0.0789, -0.8415,  0.5160,  1.3997, -0.7646, -3.1453,\n",
            "        -0.2920, -0.3125,  1.5129,  0.5243,  0.2146,  0.4245, -0.0884, -0.1780,\n",
            "         1.1876,  0.1058,  0.7657,  0.2191,  0.3582, -0.1164,  0.0933, -0.6248,\n",
            "        -0.2190,  0.2180,  0.7406, -0.4374,  0.1434,  0.1472, -1.1605, -0.0505,\n",
            "         0.1268, -0.0144, -0.9868, -0.0913, -1.2054, -0.1197,  0.0478, -0.5400,\n",
            "         0.5246, -0.7096, -0.3253, -0.1346, -0.4131,  0.3343, -0.0072,  0.3225,\n",
            "        -0.0442, -1.2969,  0.7622,  0.4635])\n",
            "Token[3]: \"green\"\n",
            "tensor([-6.7907e-01,  3.4908e-01, -2.3984e-01, -9.9652e-01,  7.3782e-01,\n",
            "        -6.5911e-04,  2.8010e-01,  1.7287e-02, -3.6063e-01,  3.6955e-02,\n",
            "        -4.0395e-01,  2.4092e-02,  2.8958e-01,  4.0497e-01,  6.9992e-01,\n",
            "         2.5269e-01,  8.0350e-01,  4.9370e-02,  1.5562e-01, -6.3286e-03,\n",
            "        -2.9414e-01,  1.4728e-01,  1.8977e-01, -5.1791e-01,  3.6986e-01,\n",
            "         7.4582e-01,  8.2689e-02, -7.2601e-01, -4.0939e-01, -9.7822e-02,\n",
            "        -1.4096e-01,  7.1121e-01,  6.1933e-01, -2.5014e-01,  4.2250e-01,\n",
            "         4.8458e-01, -5.1915e-01,  7.7125e-01,  3.6685e-01,  4.9652e-01,\n",
            "        -4.1298e-02, -1.4683e+00,  2.0038e-01,  1.8591e-01,  4.9860e-02,\n",
            "        -1.7523e-01, -3.5528e-01,  9.4153e-01, -1.1898e-01, -5.1903e-01,\n",
            "        -1.1887e-02, -3.9186e-01, -1.7479e-01,  9.3451e-01, -5.8931e-01,\n",
            "        -2.7701e+00,  3.4522e-01,  8.6533e-01,  1.0808e+00, -1.0291e-01,\n",
            "        -9.1220e-02,  5.5092e-01, -3.9473e-01,  5.3676e-01,  1.0383e+00,\n",
            "        -4.0658e-01,  2.4590e-01, -2.6797e-01, -2.6036e-01, -1.4151e-01,\n",
            "        -1.2022e-01,  1.6234e-01, -7.4320e-01, -6.4728e-01,  4.7133e-02,\n",
            "         5.1642e-01,  1.9898e-01,  2.3919e-01,  1.2550e-01,  2.2471e-01,\n",
            "         8.2613e-01,  7.8328e-02, -5.7020e-01,  2.3934e-02, -1.5410e-01,\n",
            "        -2.5739e-01,  4.1262e-01, -4.6967e-01,  8.7914e-01,  7.2629e-01,\n",
            "         5.3862e-02, -1.1575e+00, -4.7835e-01,  2.0139e-01, -1.0051e+00,\n",
            "         1.1515e-01, -9.6609e-01,  1.2960e-01,  1.8388e-01, -3.0383e-02])\n",
            "Token[4]: \".\"\n",
            "tensor([-0.3398,  0.2094,  0.4635, -0.6479, -0.3838,  0.0380,  0.1713,  0.1598,\n",
            "         0.4662, -0.0192,  0.4148, -0.3435,  0.2687,  0.0446,  0.4213, -0.4103,\n",
            "         0.1546,  0.0222, -0.6465,  0.2526,  0.0431, -0.1945,  0.4652,  0.4565,\n",
            "         0.6859,  0.0913,  0.2188, -0.7035,  0.1679, -0.3508, -0.1263,  0.6638,\n",
            "        -0.2582,  0.0365, -0.1361,  0.4025,  0.1429,  0.3813, -0.1228, -0.4589,\n",
            "        -0.2528, -0.3043, -0.1121, -0.2618, -0.2248, -0.4455,  0.2991, -0.8561,\n",
            "        -0.1450, -0.4909,  0.0083, -0.1749,  0.2752,  1.4401, -0.2124, -2.8435,\n",
            "        -0.2796, -0.4572,  1.6386,  0.7881, -0.5526,  0.6500,  0.0864,  0.3901,\n",
            "         1.0632, -0.3538,  0.4833,  0.3460,  0.8417,  0.0987, -0.2421, -0.2705,\n",
            "         0.0453, -0.4015,  0.1139,  0.0062,  0.0367,  0.0185, -1.0213, -0.2081,\n",
            "         0.6407, -0.0688, -0.5864,  0.3348, -1.1432, -0.1148, -0.2509, -0.4591,\n",
            "        -0.0968, -0.1795, -0.0634, -0.6741, -0.0689,  0.5360, -0.8777,  0.3180,\n",
            "        -0.3924, -0.2339,  0.4730, -0.0288])\n"
          ]
        }
      ],
      "source": [
        "# create sentence.\n",
        "sentence = Sentence('The grass is green .')\n",
        "\n",
        "# embed a sentence using glove.\n",
        "glove_embedding.embed(sentence)\n",
        "\n",
        "# now check out the embedded tokens.\n",
        "for token in sentence:\n",
        "    print(token)\n",
        "    print(token.embedding)"
      ]
    },
    {
      "cell_type": "code",
      "execution_count": null,
      "metadata": {
        "colab": {
          "base_uri": "https://localhost:8080/"
        },
        "id": "HFYaaRKDBhHN",
        "outputId": "b76a8197-f807-4573-edac-a9abc577a8b4"
      },
      "outputs": [
        {
          "output_type": "stream",
          "name": "stdout",
          "text": [
            "2022-04-07 04:44:52,218 https://flair.informatik.hu-berlin.de/resources/embeddings/flair/news-forward-0.4.1.pt not found in cache, downloading to /tmp/tmpu46ertuf\n"
          ]
        },
        {
          "output_type": "stream",
          "name": "stderr",
          "text": [
            "100%|██████████| 73034624/73034624 [00:04<00:00, 14712197.43B/s]"
          ]
        },
        {
          "output_type": "stream",
          "name": "stdout",
          "text": [
            "2022-04-07 04:44:57,718 copying /tmp/tmpu46ertuf to cache at /root/.flair/embeddings/news-forward-0.4.1.pt\n"
          ]
        },
        {
          "output_type": "stream",
          "name": "stderr",
          "text": [
            "\n"
          ]
        },
        {
          "output_type": "stream",
          "name": "stdout",
          "text": [
            "2022-04-07 04:44:57,878 removing temp file /tmp/tmpu46ertuf\n"
          ]
        },
        {
          "output_type": "execute_result",
          "data": {
            "text/plain": [
              "[Sentence: \"The grass is green .\"]"
            ]
          },
          "metadata": {},
          "execution_count": 5
        }
      ],
      "source": [
        "from flair.embeddings import FlairEmbeddings\n",
        "\n",
        "# init embedding\n",
        "flair_embedding_forward = FlairEmbeddings('news-forward')\n",
        "\n",
        "# create a sentence\n",
        "sentence = Sentence('The grass is green .')\n",
        "\n",
        "# embed words in sentence\n",
        "flair_embedding_forward.embed(sentence)"
      ]
    },
    {
      "cell_type": "code",
      "execution_count": null,
      "metadata": {
        "colab": {
          "base_uri": "https://localhost:8080/"
        },
        "id": "0YwGhL7JBlBT",
        "outputId": "d7036def-fd7f-40b9-f3d3-1228669c6348"
      },
      "outputs": [
        {
          "output_type": "stream",
          "name": "stdout",
          "text": [
            "2022-04-07 04:45:01,069 https://flair.informatik.hu-berlin.de/resources/embeddings/flair/news-backward-0.4.1.pt not found in cache, downloading to /tmp/tmpmvhzdeo9\n"
          ]
        },
        {
          "output_type": "stream",
          "name": "stderr",
          "text": [
            "100%|██████████| 73034575/73034575 [00:05<00:00, 13513453.03B/s]"
          ]
        },
        {
          "output_type": "stream",
          "name": "stdout",
          "text": [
            "2022-04-07 04:45:07,011 copying /tmp/tmpmvhzdeo9 to cache at /root/.flair/embeddings/news-backward-0.4.1.pt\n"
          ]
        },
        {
          "output_type": "stream",
          "name": "stderr",
          "text": [
            "\n"
          ]
        },
        {
          "output_type": "stream",
          "name": "stdout",
          "text": [
            "2022-04-07 04:45:07,219 removing temp file /tmp/tmpmvhzdeo9\n"
          ]
        }
      ],
      "source": [
        "from flair.embeddings import WordEmbeddings, FlairEmbeddings\n",
        "\n",
        "# init standard GloVe embedding\n",
        "glove_embedding = WordEmbeddings('glove')\n",
        "\n",
        "# init Flair forward and backwards embeddings\n",
        "flair_embedding_forward = FlairEmbeddings('news-forward')\n",
        "flair_embedding_backward = FlairEmbeddings('news-backward')\n",
        "\n"
      ]
    },
    {
      "cell_type": "code",
      "execution_count": null,
      "metadata": {
        "id": "0yoiVLI2CxhM"
      },
      "outputs": [],
      "source": [
        "from flair.embeddings import StackedEmbeddings\n",
        "\n",
        "# create a StackedEmbedding object that combines glove and forward/backward flair embeddings\n",
        "stacked_embeddings = StackedEmbeddings([\n",
        "                                        glove_embedding,\n",
        "                                        flair_embedding_forward,\n",
        "                                        flair_embedding_backward,\n",
        "                                       ])"
      ]
    },
    {
      "cell_type": "code",
      "execution_count": null,
      "metadata": {
        "colab": {
          "base_uri": "https://localhost:8080/"
        },
        "id": "XLQdUG-EDVNN",
        "outputId": "1c4a4896-f080-432f-a694-fabb600b0aa4"
      },
      "outputs": [
        {
          "output_type": "execute_result",
          "data": {
            "text/plain": [
              "StackedEmbeddings(\n",
              "  (list_embedding_0): WordEmbeddings(\n",
              "    'glove'\n",
              "    (embedding): Embedding(400001, 100)\n",
              "  )\n",
              "  (list_embedding_1): FlairEmbeddings(\n",
              "    (lm): LanguageModel(\n",
              "      (drop): Dropout(p=0.05, inplace=False)\n",
              "      (encoder): Embedding(300, 100)\n",
              "      (rnn): LSTM(100, 2048)\n",
              "      (decoder): Linear(in_features=2048, out_features=300, bias=True)\n",
              "    )\n",
              "  )\n",
              "  (list_embedding_2): FlairEmbeddings(\n",
              "    (lm): LanguageModel(\n",
              "      (drop): Dropout(p=0.05, inplace=False)\n",
              "      (encoder): Embedding(300, 100)\n",
              "      (rnn): LSTM(100, 2048)\n",
              "      (decoder): Linear(in_features=2048, out_features=300, bias=True)\n",
              "    )\n",
              "  )\n",
              ")"
            ]
          },
          "metadata": {},
          "execution_count": 8
        }
      ],
      "source": [
        "stacked_embeddings"
      ]
    },
    {
      "cell_type": "code",
      "execution_count": null,
      "metadata": {
        "colab": {
          "base_uri": "https://localhost:8080/"
        },
        "id": "deVYMi0jDd6F",
        "outputId": "f559c4db-68e5-47de-8235-90aca962aea9"
      },
      "outputs": [
        {
          "output_type": "stream",
          "name": "stdout",
          "text": [
            "Token[0]: \"The\"\n",
            "tensor([ 0.6800,  0.2429,  0.0012,  ...,  0.5011, -0.1725,  0.1523])\n",
            "Token[1]: \"grass\"\n",
            "tensor([ 2.9200e-01,  2.2066e-02,  4.5290e-05,  ...,  7.1819e-01,\n",
            "        -4.6009e-01,  5.7470e-01])\n",
            "Token[2]: \"is\"\n",
            "tensor([-0.5447,  0.0229,  0.0078,  ...,  0.7923, -0.1586,  0.6492])\n",
            "Token[3]: \"green\"\n",
            "tensor([0.1477, 0.1097, 0.0009,  ..., 0.6716, 0.0342, 0.1898])\n",
            "Token[4]: \".\"\n",
            "tensor([-1.5555e-01,  6.7598e-03,  5.3829e-06,  ...,  3.1035e-01,\n",
            "         2.0151e-01,  2.2258e-01])\n"
          ]
        }
      ],
      "source": [
        "sentence = Sentence('The grass is green .')\n",
        "\n",
        "# just embed a sentence using the StackedEmbedding as you would with any single embedding.\n",
        "stacked_embeddings.embed(sentence)\n",
        "\n",
        "# now check out the embedded tokens.\n",
        "for token in sentence:\n",
        "    print(token)\n",
        "    print(token.embedding)"
      ]
    },
    {
      "cell_type": "code",
      "execution_count": null,
      "metadata": {
        "colab": {
          "base_uri": "https://localhost:8080/",
          "height": 336,
          "referenced_widgets": [
            "4953e802e4084c17ba66c62a7ecc9f02",
            "f748c6c2080f408789359a8c005486e4",
            "f7284f1b716444dcbfea9a7da7aeb885",
            "5d625c691c664974874a242231e86d06",
            "695064ddbcbc4187890cdbf38957ef6a",
            "72fefb1572cd478c8cd73ce4b0c7474e",
            "abb8af9bcfc246e291e3de20d7e760c0",
            "6b95e25769ac4a339cfac11d6a8de203",
            "f77c0bdb9f474352874391a68bf23f16",
            "02bf92d4d68642f5a3fb0a31970ac21e",
            "1952c325a9ef4e43bd2d0eaba1bbbc0d",
            "2913225697394c8898b8452355a9ce1c",
            "da30655bd0f049b0bbec67059bdf1558",
            "e9c05ee68ce6468280c4561d5c2f12f4",
            "896c1c7988a84806b6efebfec6f83381",
            "14c3d8669a3e47cfbd572aaff0886127",
            "f59fde1bca3f421ea43806a35607476c",
            "ccc193be066e4c529fa5d2bc0e4f2bac",
            "0fff23f5766b48c0bd0789c0916fc7f8",
            "e5f1a4d1b5454f488bc8e2607f01448b",
            "c4e7bb030736428e83fbfce885e79213",
            "37f7b5fdc1ad43b0ac218eff24caa9af",
            "4df05c8e3bad41258eaeead74a0ceeb3",
            "9d6d797077c143999efbfa55e12d354a",
            "389de50e29b3422392fb3173ef96c776",
            "721425611cf14462ba02e3f740a0cdf0",
            "22b0033af5c94380a1983e43ac9220f1",
            "e09d977096f643bd94b4823fa2cc6a65",
            "8bcf4d6dd4cf476f9a83a5544838bd5d",
            "92875159c284489f9ca1865a80914467",
            "454a63b893f54c8ea9a22e4cbba9115d",
            "ac8a1a33c4694be7a51afa476d6ae08f",
            "f4073a0002c54df393f3a9bed8a87fd3",
            "e475511a8d994e18972cb2b81dcf5dc8",
            "8f86e8305f1543458bab3c89a20bda7e",
            "be2a7c6049724ec7a13f8352ebc0a4b8",
            "48445ac713e24cb9ba8121d0a687a9f2",
            "22c97e322f024d8299dd264582efb151",
            "74c55f72d20a446b971d234183ebf94d",
            "6c1098ef37d54c34a8b35e288ffb1483",
            "d3a092d94f324767a49f4969e1df9855",
            "af973986974d45968d0887176adb0592",
            "ae801f20dd3d49d1b83b1c3ef5034028",
            "1d548384fce04c6db00ec5536d5c639f",
            "59114378eb154a3d890aec7fa5d27a08",
            "ee4274cf448c44079b7441004af2c9a4",
            "0eb7ac68189641e4a4a80c91cf39aa42",
            "d53c2fa2ad6f4b25b541645d45ed728f",
            "bf755fa83d41437c8baf93c77ac9ac26",
            "49957b669d744196b112883a40c925b4",
            "2f22b192c6b0468494a4d33c616d803a",
            "d7271a27743f4ec09463be2df141802f",
            "ec8002a6ad624cfe83b4575665a7640b",
            "8003f009e4194408a9f7e982e8bb4dfe",
            "c395f37bdd0f42fdb5497962d4d21c78"
          ]
        },
        "id": "grmAsbA6Dhjm",
        "outputId": "c6143c08-0d23-4449-defe-1360e62e24ca"
      },
      "outputs": [
        {
          "output_type": "stream",
          "name": "stdout",
          "text": [
            "2022-04-07 04:45:08,456 https://flair.informatik.hu-berlin.de/resources/embeddings/flair/lm-jw300-forward-v0.1.pt not found in cache, downloading to /tmp/tmpl9zdqa6p\n"
          ]
        },
        {
          "output_type": "stream",
          "name": "stderr",
          "text": [
            "100%|██████████| 172513724/172513724 [00:10<00:00, 16376742.06B/s]"
          ]
        },
        {
          "output_type": "stream",
          "name": "stdout",
          "text": [
            "2022-04-07 04:45:19,554 copying /tmp/tmpl9zdqa6p to cache at /root/.flair/embeddings/lm-jw300-forward-v0.1.pt\n"
          ]
        },
        {
          "output_type": "stream",
          "name": "stderr",
          "text": [
            "\n"
          ]
        },
        {
          "output_type": "stream",
          "name": "stdout",
          "text": [
            "2022-04-07 04:45:19,970 removing temp file /tmp/tmpl9zdqa6p\n",
            "2022-04-07 04:45:21,550 https://flair.informatik.hu-berlin.de/resources/embeddings/flair/lm-jw300-backward-v0.1.pt not found in cache, downloading to /tmp/tmpft0qwwcr\n"
          ]
        },
        {
          "output_type": "stream",
          "name": "stderr",
          "text": [
            "100%|██████████| 172513724/172513724 [00:10<00:00, 16485456.76B/s]"
          ]
        },
        {
          "output_type": "stream",
          "name": "stdout",
          "text": [
            "2022-04-07 04:45:32,569 copying /tmp/tmpft0qwwcr to cache at /root/.flair/embeddings/lm-jw300-backward-v0.1.pt\n"
          ]
        },
        {
          "output_type": "stream",
          "name": "stderr",
          "text": [
            "\n"
          ]
        },
        {
          "output_type": "stream",
          "name": "stdout",
          "text": [
            "2022-04-07 04:45:32,935 removing temp file /tmp/tmpft0qwwcr\n"
          ]
        },
        {
          "output_type": "display_data",
          "data": {
            "text/plain": [
              "Downloading:   0%|          | 0.00/29.0 [00:00<?, ?B/s]"
            ],
            "application/vnd.jupyter.widget-view+json": {
              "version_major": 2,
              "version_minor": 0,
              "model_id": "4953e802e4084c17ba66c62a7ecc9f02"
            }
          },
          "metadata": {}
        },
        {
          "output_type": "display_data",
          "data": {
            "text/plain": [
              "Downloading:   0%|          | 0.00/625 [00:00<?, ?B/s]"
            ],
            "application/vnd.jupyter.widget-view+json": {
              "version_major": 2,
              "version_minor": 0,
              "model_id": "2913225697394c8898b8452355a9ce1c"
            }
          },
          "metadata": {}
        },
        {
          "output_type": "display_data",
          "data": {
            "text/plain": [
              "Downloading:   0%|          | 0.00/972k [00:00<?, ?B/s]"
            ],
            "application/vnd.jupyter.widget-view+json": {
              "version_major": 2,
              "version_minor": 0,
              "model_id": "4df05c8e3bad41258eaeead74a0ceeb3"
            }
          },
          "metadata": {}
        },
        {
          "output_type": "display_data",
          "data": {
            "text/plain": [
              "Downloading:   0%|          | 0.00/1.87M [00:00<?, ?B/s]"
            ],
            "application/vnd.jupyter.widget-view+json": {
              "version_major": 2,
              "version_minor": 0,
              "model_id": "e475511a8d994e18972cb2b81dcf5dc8"
            }
          },
          "metadata": {}
        },
        {
          "output_type": "display_data",
          "data": {
            "text/plain": [
              "Downloading:   0%|          | 0.00/681M [00:00<?, ?B/s]"
            ],
            "application/vnd.jupyter.widget-view+json": {
              "version_major": 2,
              "version_minor": 0,
              "model_id": "59114378eb154a3d890aec7fa5d27a08"
            }
          },
          "metadata": {}
        }
      ],
      "source": [
        "from flair.embeddings import FlairEmbeddings, TransformerWordEmbeddings\n",
        "\n",
        "# init Flair embeddings\n",
        "flair_forward_embedding = FlairEmbeddings('multi-forward')\n",
        "flair_backward_embedding = FlairEmbeddings('multi-backward')\n",
        "\n",
        "# init multilingual BERT\n",
        "bert_embedding = TransformerWordEmbeddings('bert-base-multilingual-cased')"
      ]
    },
    {
      "cell_type": "code",
      "execution_count": null,
      "metadata": {
        "id": "lN5qm5-BDvgu"
      },
      "outputs": [],
      "source": [
        "from flair.embeddings import StackedEmbeddings\n",
        "\n",
        "# now create the StackedEmbedding object that combines all embeddings\n",
        "stacked_embeddings = StackedEmbeddings(\n",
        "    embeddings=[flair_forward_embedding, flair_backward_embedding, bert_embedding])"
      ]
    },
    {
      "cell_type": "code",
      "execution_count": null,
      "metadata": {
        "colab": {
          "base_uri": "https://localhost:8080/"
        },
        "id": "ke_VITH5DyR4",
        "outputId": "ad991c2b-bf84-4bd6-d4e5-e8ca42db47af"
      },
      "outputs": [
        {
          "output_type": "stream",
          "name": "stdout",
          "text": [
            "Token[0]: \"The\"\n",
            "tensor([ 0.6800,  0.2429,  0.0012,  ...,  0.5011, -0.1725,  0.1523])\n",
            "Token[1]: \"grass\"\n",
            "tensor([ 2.9200e-01,  2.2066e-02,  4.5290e-05,  ...,  7.1819e-01,\n",
            "        -4.6009e-01,  5.7470e-01])\n",
            "Token[2]: \"is\"\n",
            "tensor([-0.5447,  0.0229,  0.0078,  ...,  0.7923, -0.1586,  0.6492])\n",
            "Token[3]: \"green\"\n",
            "tensor([0.1477, 0.1097, 0.0009,  ..., 0.6716, 0.0342, 0.1898])\n",
            "Token[4]: \".\"\n",
            "tensor([-1.5555e-01,  6.7598e-03,  5.3829e-06,  ...,  3.1035e-01,\n",
            "         2.0151e-01,  2.2258e-01])\n"
          ]
        }
      ],
      "source": [
        "sentence = Sentence('The grass is green .')\n",
        "\n",
        "# just embed a sentence using the StackedEmbedding as you would with any single embedding.\n",
        "stacked_embeddings.embed(sentence)\n",
        "\n",
        "# now check out the embedded tokens.\n",
        "for token in sentence:\n",
        "    print(token)\n",
        "    print(token.embedding)"
      ]
    },
    {
      "cell_type": "code",
      "execution_count": null,
      "metadata": {
        "id": "9QzAXhhOEDRH"
      },
      "outputs": [],
      "source": [
        "from flair.embeddings import WordEmbeddings, DocumentPoolEmbeddings\n",
        "\n",
        "# initialize the word embeddings\n",
        "glove_embedding = WordEmbeddings('glove')\n",
        "\n",
        "# initialize the document embeddings, mode = mean\n",
        "document_embeddings = DocumentPoolEmbeddings([glove_embedding])"
      ]
    },
    {
      "cell_type": "code",
      "source": [
        "document_embeddings"
      ],
      "metadata": {
        "colab": {
          "base_uri": "https://localhost:8080/"
        },
        "id": "_j-YiUDYWKUG",
        "outputId": "fbf3f29f-8cb5-49d4-a2dc-e44f25e725c3"
      },
      "execution_count": null,
      "outputs": [
        {
          "output_type": "execute_result",
          "data": {
            "text/plain": [
              "DocumentRNNEmbeddings(\n",
              "  (embeddings): StackedEmbeddings(\n",
              "    (list_embedding_0): WordEmbeddings(\n",
              "      'glove'\n",
              "      (embedding): Embedding(400001, 100)\n",
              "    )\n",
              "  )\n",
              "  (word_reprojection_map): Linear(in_features=100, out_features=100, bias=True)\n",
              "  (rnn): GRU(100, 128, batch_first=True)\n",
              "  (dropout): Dropout(p=0.5, inplace=False)\n",
              ")"
            ]
          },
          "metadata": {},
          "execution_count": 24
        }
      ]
    },
    {
      "cell_type": "code",
      "execution_count": null,
      "metadata": {
        "colab": {
          "base_uri": "https://localhost:8080/"
        },
        "id": "8gh38cBYEH9w",
        "outputId": "4e78dee4-017c-4ae1-81d7-40d1f081bc3f"
      },
      "outputs": [
        {
          "output_type": "stream",
          "name": "stdout",
          "text": [
            "tensor([-3.1970e-01,  2.6206e-01,  4.0371e-01, -4.8223e-01,  2.1118e-01,\n",
            "         8.5380e-02, -6.0909e-02,  2.2149e-01, -2.4234e-01, -1.0128e-01,\n",
            "         8.6213e-02, -1.6874e-01,  3.4736e-01,  6.7267e-02,  2.2750e-01,\n",
            "        -2.5534e-01,  3.9017e-01,  9.6975e-03, -9.5909e-03,  2.8388e-02,\n",
            "        -3.2033e-02, -5.7822e-03,  2.8569e-01,  4.0082e-02,  5.8185e-01,\n",
            "         2.3183e-01,  5.9500e-02, -5.7468e-01, -2.0337e-01, -1.7826e-01,\n",
            "        -1.8182e-01,  4.7222e-01,  9.8503e-02,  1.0854e-01,  1.9359e-01,\n",
            "         2.9041e-01,  1.5739e-04,  4.3389e-01,  1.8119e-01, -1.1405e-01,\n",
            "        -3.4222e-01, -4.9730e-01,  1.6268e-02, -1.8057e-01,  2.5105e-02,\n",
            "         1.4868e-02,  2.3021e-01, -8.9935e-02, -4.4742e-02, -5.3620e-01,\n",
            "        -1.3269e-01, -1.3503e-01,  2.4511e-01,  1.2051e+00, -4.5334e-01,\n",
            "        -2.6632e+00,  2.7964e-02,  4.9859e-02,  1.5550e+00,  5.0574e-01,\n",
            "        -8.0093e-02,  6.9114e-01, -1.5679e-01,  2.3944e-01,  9.0704e-01,\n",
            "        -1.1536e-01,  3.8778e-01,  6.8844e-02,  3.2989e-01, -1.5260e-01,\n",
            "        -4.2541e-02, -2.4333e-01, -1.6738e-01, -3.1495e-01,  2.4115e-01,\n",
            "         6.8981e-02,  1.1922e-01,  1.4478e-01, -6.6563e-01,  6.9832e-02,\n",
            "         5.8356e-01,  8.6527e-02, -4.8388e-01,  1.5086e-01, -8.9072e-01,\n",
            "        -3.4816e-01, -2.6635e-02, -2.1770e-01,  3.8983e-01,  7.9085e-02,\n",
            "        -2.3757e-02, -5.3694e-01, -3.1125e-01,  4.7508e-01, -6.1099e-01,\n",
            "         9.1333e-02, -5.4229e-01, -2.9515e-01,  5.2432e-01,  1.9662e-01])\n"
          ]
        }
      ],
      "source": [
        "# create an example sentence\n",
        "sentence = Sentence('The grass is green . And the sky is blue .')\n",
        "\n",
        "# embed the sentence with our document embedding\n",
        "document_embeddings.embed(sentence)\n",
        "\n",
        "# now check out the embedded sentence.\n",
        "print(sentence.embedding)"
      ]
    },
    {
      "cell_type": "code",
      "execution_count": null,
      "metadata": {
        "id": "kN4qrnvZEJui"
      },
      "outputs": [],
      "source": [
        "from flair.embeddings import WordEmbeddings, DocumentRNNEmbeddings\n",
        "\n",
        "glove_embedding = WordEmbeddings('glove')\n",
        "\n",
        "document_embeddings = DocumentRNNEmbeddings([glove_embedding])"
      ]
    },
    {
      "cell_type": "code",
      "execution_count": null,
      "metadata": {
        "colab": {
          "base_uri": "https://localhost:8080/"
        },
        "id": "6fHyM2bzEcHx",
        "outputId": "03c56f8c-82e4-46fe-be14-174c9b6a8c9a"
      },
      "outputs": [
        {
          "output_type": "stream",
          "name": "stdout",
          "text": [
            "tensor([-3.5485e-01, -5.9591e-01, -2.7249e-01,  3.1317e-01, -6.3797e-02,\n",
            "         2.5900e-01, -5.0017e-03,  1.5215e-01,  2.6575e-01, -3.5321e-01,\n",
            "         2.5138e-01, -9.3746e-02,  5.0717e-01,  3.0570e-01,  3.0439e-01,\n",
            "        -1.4189e-01, -8.9304e-02,  1.2712e-01,  2.3642e-01, -5.7820e-02,\n",
            "        -1.3296e-01,  1.0753e-01, -2.5141e-02, -1.8569e-01, -2.4914e-01,\n",
            "         5.2951e-02, -1.0740e-01,  1.3002e-03, -3.0280e-01, -8.2759e-02,\n",
            "         9.3092e-02,  2.5069e-02,  1.3125e-01, -1.5441e-01, -1.7710e-01,\n",
            "        -1.6851e-01, -3.9194e-01, -3.8469e-02, -9.9900e-02, -2.9950e-02,\n",
            "         2.5170e-01,  1.4821e-01,  1.9411e-01, -2.4363e-01,  4.7463e-01,\n",
            "        -5.3278e-02, -4.3913e-01,  8.3842e-02,  1.4503e-01,  1.3865e-01,\n",
            "        -5.6246e-02,  1.2502e-01, -3.0241e-01, -5.2926e-03, -4.7981e-01,\n",
            "         1.2891e-01,  2.8396e-01,  3.4044e-01,  4.0854e-01,  1.8186e-01,\n",
            "         2.5362e-01,  1.5659e-01,  1.0208e-01,  8.8842e-02, -2.5278e-01,\n",
            "         1.7613e-01,  2.1587e-01, -2.3564e-01,  1.1318e-01,  5.4915e-02,\n",
            "         4.1706e-02,  8.4931e-02, -5.9498e-02,  5.2956e-02, -1.4127e-02,\n",
            "        -3.0765e-02,  1.1663e-01,  1.0622e-01, -6.3875e-02, -8.6981e-02,\n",
            "         1.3083e-01, -5.2681e-01, -2.4141e-01, -1.4636e-01, -4.5264e-01,\n",
            "        -4.5904e-01,  3.5400e-01, -3.9578e-02,  2.3297e-01, -8.9139e-02,\n",
            "         4.9378e-02,  2.1844e-01, -3.1953e-01,  4.6305e-01, -2.6944e-01,\n",
            "         1.4168e-01, -6.8193e-02, -3.1285e-01, -2.5595e-01, -1.5070e-01,\n",
            "        -2.3328e-02,  2.4835e-02,  3.0181e-02, -1.2254e-01,  6.4760e-02,\n",
            "         3.0132e-01, -5.2802e-01,  3.3739e-01, -3.5446e-02, -4.0873e-01,\n",
            "        -3.3767e-02, -5.7485e-01, -1.9019e-01, -1.9638e-02,  2.1443e-03,\n",
            "        -1.0700e-01, -6.7662e-02,  2.7740e-01,  4.2130e-01, -3.5883e-04,\n",
            "         9.5588e-02, -2.5424e-01,  3.0168e-01,  2.1779e-02,  9.9259e-03,\n",
            "         2.4304e-01,  2.1356e-01,  6.5176e-02], grad_fn=<CatBackward0>)\n"
          ]
        }
      ],
      "source": [
        "# create an example sentence\n",
        "sentence = Sentence('The grass is green . And the sky is blue .')\n",
        "\n",
        "# embed the sentence with our document embedding\n",
        "document_embeddings.embed(sentence)\n",
        "\n",
        "# now check out the embedded sentence.\n",
        "print(sentence.get_embedding())"
      ]
    },
    {
      "cell_type": "code",
      "execution_count": null,
      "metadata": {
        "colab": {
          "base_uri": "https://localhost:8080/"
        },
        "id": "_ve49CSfEgSR",
        "outputId": "bb98930e-4546-46d7-d7b4-816580988315"
      },
      "outputs": [
        {
          "output_type": "execute_result",
          "data": {
            "text/plain": [
              "[Sentence: \"The grass is green .\"]"
            ]
          },
          "metadata": {},
          "execution_count": 35
        }
      ],
      "source": [
        "from flair.embeddings import TransformerDocumentEmbeddings\n",
        "\n",
        "# init embedding\n",
        "embedding = TransformerDocumentEmbeddings('roberta-base')\n",
        "\n",
        "# create a sentence\n",
        "sentence = Sentence('The grass is green .')\n",
        "\n",
        "# embed the sentence\n",
        "embedding.embed(sentence)"
      ]
    },
    {
      "cell_type": "code",
      "source": [
        "print(sentence.get_embedding())"
      ],
      "metadata": {
        "colab": {
          "base_uri": "https://localhost:8080/"
        },
        "id": "YsOh8M9FZeAY",
        "outputId": "879ba130-2a68-4519-f557-56178da65bc8"
      },
      "execution_count": null,
      "outputs": [
        {
          "output_type": "stream",
          "name": "stdout",
          "text": [
            "tensor([-5.4827e-02,  8.1445e-02, -2.3627e-02, -1.1889e-01,  8.8264e-02,\n",
            "        -1.0158e-01, -3.9760e-02,  2.5344e-02,  5.7176e-02, -4.3611e-02,\n",
            "        -1.6021e-02,  6.7109e-02,  4.5533e-02, -3.7056e-02,  8.3872e-02,\n",
            "         4.0680e-02, -3.2502e-02,  4.3946e-03,  2.0103e-02, -1.8845e-02,\n",
            "        -1.0430e-01,  5.6291e-02, -5.3668e-02,  6.8832e-02,  5.4544e-02,\n",
            "         2.9801e-02,  8.3801e-02,  7.5989e-02, -6.0098e-02, -8.6467e-03,\n",
            "         1.2593e-02,  3.3508e-03,  2.5977e-02, -5.2778e-03,  7.5220e-02,\n",
            "         8.6121e-02,  6.5642e-02, -3.4260e-02, -1.1228e-01,  2.4858e-02,\n",
            "        -4.3047e-03,  3.6223e-02,  5.6927e-02,  6.7391e-03,  8.7083e-02,\n",
            "         1.2816e-02,  7.2611e-03,  2.3794e-02, -4.2810e-02,  1.6011e-02,\n",
            "         6.6762e-03,  3.4390e-02, -6.0828e-02, -1.2069e-02, -6.6790e-02,\n",
            "         2.3045e-03,  2.3292e-02,  5.2836e-02,  9.3991e-02, -2.1734e-02,\n",
            "         8.3372e-03, -1.5891e-01, -1.0182e-01, -4.1488e-02,  3.6775e-02,\n",
            "        -3.3367e-02, -1.5830e-03, -3.2217e-03,  4.7659e-02,  5.7026e-02,\n",
            "         9.2923e-02, -4.7413e-02,  4.1319e-02, -3.6055e-02, -2.1909e-02,\n",
            "         8.5008e-03,  1.7627e-02,  5.4502e-01, -7.0114e-02, -2.9612e-03,\n",
            "         6.7217e-02, -5.4679e-02,  3.5746e-01,  4.7030e-02,  1.6688e-02,\n",
            "         2.4228e-02,  6.0980e-02,  7.8160e-02,  3.5369e-02,  4.8774e-02,\n",
            "         2.0300e-02,  5.1057e-02, -6.4572e-02, -1.3898e-03,  2.7564e-02,\n",
            "         5.5429e-02,  4.1267e-03,  1.9818e-02, -5.4610e-02, -6.6787e-02,\n",
            "        -3.7188e-02, -7.1578e-02,  9.5168e-02,  1.9103e-02, -1.4510e-02,\n",
            "         2.5661e-02,  6.6585e-02, -1.9870e-02,  4.4247e-02, -3.4706e-02,\n",
            "         3.4513e-02,  7.1794e-02,  2.0476e-02,  2.6594e-02, -3.2872e-02,\n",
            "        -6.1313e-02, -3.5511e-02,  1.4434e-02,  5.2620e-03, -6.9555e-04,\n",
            "         4.3106e-02,  8.0944e-02,  1.1230e-01, -1.1124e-02, -3.4351e-02,\n",
            "        -1.5013e-02, -3.6499e-02,  9.1881e-03, -6.5359e-02,  3.3049e-02,\n",
            "        -5.0205e-04, -8.5642e-02, -4.4620e-02,  1.0113e-01,  5.8649e-02,\n",
            "         3.7986e-02,  2.0919e-02, -1.1386e-02, -1.8483e-02, -3.3618e-02,\n",
            "        -5.7536e-03,  5.6117e-02,  6.1482e-02,  7.0445e-03,  9.9833e-02,\n",
            "        -4.2372e-03, -2.6846e-03, -5.8405e-02,  2.7864e-02, -1.1359e-02,\n",
            "         7.1416e-02, -7.9805e-02, -3.3905e-02,  1.7906e-02, -1.3418e-02,\n",
            "         4.5040e-01,  1.0102e-01,  3.5279e-02, -3.1934e-02,  2.9351e-02,\n",
            "         1.5968e-01,  2.9736e-02,  2.0919e-02,  2.0128e-02, -1.7733e-02,\n",
            "        -1.8200e-02, -3.1096e-02,  3.7626e-02,  8.6605e-02,  8.3987e-03,\n",
            "         5.0077e-02,  4.8837e-02,  5.0681e-03, -6.4223e-02, -7.9315e-02,\n",
            "        -4.9714e-02, -1.0483e-02, -1.6187e-03, -6.6630e-02, -1.0980e-02,\n",
            "         5.2782e-02,  4.4549e-02, -9.4187e-02,  3.1535e-02, -4.0366e-02,\n",
            "         2.0813e-02,  1.1267e-02,  6.6288e-02,  3.7261e-03,  2.3706e-02,\n",
            "         5.0103e-02, -1.5548e-02, -3.4186e-02,  4.4494e-03, -4.6676e-02,\n",
            "         7.6852e-02, -1.9102e-02, -1.2332e-02,  3.1462e-02, -3.0470e-02,\n",
            "         5.2544e-02, -9.1785e-02,  9.3373e-02, -8.0038e-02,  1.0034e-01,\n",
            "        -2.5186e-02,  5.2326e-02,  9.6404e-02,  2.2117e-02, -6.9771e-02,\n",
            "        -5.7390e-02,  6.4454e-02, -1.1386e-02,  8.0425e-02,  1.4689e-02,\n",
            "        -2.3187e-02,  7.0384e-02,  1.3252e-01, -9.1714e-03, -4.2402e-02,\n",
            "         2.5911e-02,  4.7596e-02, -1.3052e-02,  7.4536e-02, -7.0718e-02,\n",
            "         3.7421e-02,  5.8073e-02, -6.5356e-03,  1.9682e-02, -6.5519e-02,\n",
            "        -3.3283e-02,  2.9775e-02,  2.3239e-02,  5.6554e-03,  5.3448e-02,\n",
            "        -1.0866e-01, -3.6131e-03, -5.8317e-02, -3.7987e-02,  1.2850e-02,\n",
            "        -1.5075e-01,  4.3522e-02,  3.9138e-02,  1.9704e-02,  7.3401e-03,\n",
            "         2.9869e-02, -1.8248e-03,  1.1101e-01, -2.2339e-02,  6.3212e-02,\n",
            "        -1.7008e-02,  2.1105e-02, -1.5789e-02, -1.7854e-02,  4.5433e-02,\n",
            "        -4.0029e-02, -7.7721e-02, -1.0728e-03,  6.2887e-02,  1.3580e-02,\n",
            "        -2.0028e-02, -8.0913e-02,  2.1328e-02, -2.5247e-02, -9.4675e-02,\n",
            "        -4.6597e-02, -1.4152e-02,  1.6550e-02,  2.5444e-02, -8.2267e-02,\n",
            "        -2.6560e-02, -4.3459e-02, -6.0448e-02,  1.1405e-02,  2.6825e-02,\n",
            "         2.3077e-02, -4.4988e-02, -1.8990e-02, -7.1403e-02, -2.8097e-02,\n",
            "         2.4021e-02, -3.1108e-02, -1.2393e-01,  3.8978e-03, -5.4994e-03,\n",
            "         3.9098e-02, -4.1577e-02, -7.8664e-02,  6.9781e-02,  8.2226e-02,\n",
            "         4.8239e-02,  6.0576e-04, -2.3526e-02,  4.5924e-02, -7.0123e-02,\n",
            "         6.0051e-02,  8.4560e-02,  4.4365e-04,  4.2019e-02, -3.2235e-04,\n",
            "        -1.0486e-02, -1.0025e-01, -8.3303e-02,  2.3788e-02, -1.5065e-02,\n",
            "        -1.0473e-01, -7.0200e-03, -3.5866e-02,  4.9317e-02, -1.4014e-02,\n",
            "        -6.9076e-02, -1.8609e-02, -1.2404e-01,  1.2768e-01,  3.8208e-02,\n",
            "         3.2259e-02,  2.3419e-02, -4.7818e-02,  4.5656e-02,  4.2127e-02,\n",
            "         2.5293e-03,  2.7964e-02,  1.5888e-02,  3.4273e-03, -2.8943e-02,\n",
            "         2.2305e-02,  7.9073e-02, -2.1871e-02,  3.6980e-02,  3.6699e-01,\n",
            "        -2.9250e-01,  1.6832e-02,  7.5109e-02,  2.2816e-02,  9.6255e-02,\n",
            "         1.6881e-03,  6.9392e-02,  1.6309e-02,  9.3691e-02,  3.7210e-02,\n",
            "         6.1206e-03,  4.9207e-02, -1.6376e-02,  3.7074e-02,  5.3004e-02,\n",
            "         1.0222e-02, -4.3676e-02, -2.1717e-02,  3.4286e-02, -2.2806e-03,\n",
            "         6.1242e-03, -4.4925e-02, -8.0624e-03, -8.1504e-02, -3.3810e-02,\n",
            "         4.4732e-02,  2.7228e-02, -4.4500e-02, -1.4512e-02,  9.8315e-03,\n",
            "         4.3226e-02, -3.2028e-03,  2.4783e-02,  2.3085e-02,  9.1689e-02,\n",
            "        -8.9744e-02,  1.0022e-02,  6.7034e-02,  9.8649e-03,  2.5751e-02,\n",
            "         7.0025e-02, -1.5525e-03, -3.4370e-02,  1.4197e-02,  1.4028e-02,\n",
            "        -8.4673e-03,  2.5348e-02,  7.6462e-03,  1.2309e-02,  7.7348e-02,\n",
            "         2.4373e-02,  4.5762e-02, -2.9858e-02,  3.2775e-03,  9.0658e-02,\n",
            "        -4.8616e-03,  4.9909e-02, -1.8963e-02,  8.0018e-02,  2.3916e-02,\n",
            "        -2.9582e-02, -1.1094e-01, -6.0113e-03, -6.0491e-02,  8.4948e-02,\n",
            "         2.4981e-02, -1.9195e-02, -1.7468e-01, -4.3558e-02, -4.6779e-02,\n",
            "         2.5827e-02,  4.4311e-02, -6.4644e-02,  9.9935e-03,  2.0946e-03,\n",
            "         8.4739e-03,  2.5527e-03, -3.2568e-02,  1.7827e-02, -9.8986e-03,\n",
            "        -3.3636e-02,  3.7695e-02,  8.8589e-02, -3.0832e-02,  6.1292e-03,\n",
            "        -4.2250e-02,  2.9284e-03,  1.0003e-02, -7.7536e-03, -2.4764e-02,\n",
            "        -6.1572e-02,  6.8609e-02,  4.5101e-02,  1.7584e-02, -1.0066e-01,\n",
            "        -2.9275e-02,  3.7838e-02, -3.0647e-02, -1.0567e-02, -9.4772e-03,\n",
            "        -2.6025e-02,  4.7696e-02, -4.4807e-02, -3.1320e-02, -3.3101e-02,\n",
            "         1.4092e-02,  2.1363e-02,  8.3477e-04, -4.7929e-02, -5.4467e-02,\n",
            "        -5.9788e-02, -2.2459e-02,  3.9006e-02,  3.2352e-02, -4.3872e-02,\n",
            "         3.3413e-02,  5.8252e-02,  8.1111e-03, -8.9923e-02, -1.6857e-02,\n",
            "         2.4052e-02,  5.5834e-02, -1.6174e-02, -6.3026e-01,  5.2775e-02,\n",
            "         4.8040e-02,  2.7355e-02,  5.1614e-02, -3.1207e-02, -1.5319e-02,\n",
            "         3.9529e-02,  3.1385e-02,  2.3441e-02, -1.2754e-02, -1.0075e-02,\n",
            "        -2.6712e-03, -3.0797e-02,  4.1589e-02, -2.3411e-02, -6.9375e-03,\n",
            "         2.3082e-02, -4.1792e-02, -4.2182e-02, -4.2437e-02,  1.5196e-02,\n",
            "        -5.7394e-02, -6.6672e-02,  3.8666e-02, -1.2304e-02, -8.3797e-02,\n",
            "        -5.8101e-02,  8.5699e-02,  7.3262e-02, -9.2893e-03, -8.8168e-02,\n",
            "        -6.7795e-03, -1.0079e-02,  3.1664e-02,  7.9370e-02,  2.7738e-02,\n",
            "        -5.4177e-02, -3.7422e-02,  2.9180e-02,  2.8686e-02,  2.2224e-01,\n",
            "         2.4088e-02,  2.0573e-01, -3.1038e-02,  1.1482e-03, -5.0361e-02,\n",
            "        -2.4910e-02, -2.4411e-02, -5.4722e-03, -1.4557e-02, -2.0756e-02,\n",
            "         1.9018e-02, -8.7923e-02, -3.4181e-02, -4.8488e-03,  7.9410e-02,\n",
            "        -2.7433e-03, -2.0347e-02,  1.6311e-01, -1.4172e-02,  3.5506e-03,\n",
            "         6.0059e-02, -1.8648e-02,  2.2260e-02, -2.4001e-02, -7.6568e-03,\n",
            "        -6.8389e-02,  2.2062e-03, -1.4123e-02, -1.3670e-03, -5.6625e-02,\n",
            "        -2.2846e-02,  1.3449e-02, -1.5274e-02,  1.0922e-01, -5.4947e-03,\n",
            "        -9.3408e-04, -3.7926e-02,  7.8272e-02, -2.6307e-02, -2.3433e-02,\n",
            "         4.4549e-02,  6.8324e-02,  3.5637e-02, -4.1386e-02, -4.5156e-02,\n",
            "        -2.4941e-02,  6.1408e-02,  1.0439e-01, -1.3588e-02,  1.0593e-01,\n",
            "         2.9050e-02, -2.1241e-02, -3.9857e-02,  2.8842e-02,  8.5906e-02,\n",
            "        -4.0611e-02, -6.7569e-01, -7.0227e-02,  6.0480e-02,  8.9379e-03,\n",
            "         2.8956e-02,  6.9838e-03, -1.2461e-02, -3.5321e-02,  6.6557e-02,\n",
            "        -3.2958e-02,  3.9476e-03,  2.5438e-02,  8.0638e-02, -8.6397e-02,\n",
            "         9.1956e-03,  4.0168e-02, -1.2450e-02, -6.1412e-02, -8.3438e-03,\n",
            "        -3.0653e-01,  1.2988e-02, -4.2882e-02,  9.4440e-02,  2.7890e-02,\n",
            "        -2.5075e-03,  4.4360e-02, -3.4050e-02,  5.1953e-02,  5.7022e-02,\n",
            "         7.4641e-02,  8.5470e-02,  7.3586e-02, -1.3784e-02,  2.2848e-02,\n",
            "        -2.6185e-02,  1.0648e-01,  1.4603e-02,  1.0842e+01, -1.5370e-02,\n",
            "         6.4096e-02, -1.6329e-02, -9.0943e-03, -7.0645e-02,  5.6730e-02,\n",
            "        -5.6151e-02,  3.1499e-02,  9.5073e-02, -5.7515e-03,  2.5433e-02,\n",
            "        -9.6183e-02, -2.4203e-02,  1.5920e-02,  1.7271e-02, -5.1137e-02,\n",
            "        -6.1558e-02,  3.9310e-02, -1.5504e-02,  2.3049e-02,  5.7585e-02,\n",
            "         1.5716e-02,  4.9845e-02, -8.9039e-02,  5.2850e-02,  1.1391e-02,\n",
            "        -2.3454e-02, -7.8539e-03,  4.6832e-02,  1.7557e-02,  4.1707e-02,\n",
            "         3.6056e-02,  3.6847e-02,  6.6717e-02,  1.8650e-02,  1.4223e-02,\n",
            "         9.7786e-02,  1.6068e-02,  9.0850e-02,  1.0035e-01,  4.8263e-03,\n",
            "        -1.2258e-02, -5.7446e-02,  4.6765e-02,  8.3854e-02,  2.6789e-03,\n",
            "         9.4056e-02,  8.2705e-03,  5.8763e-02,  9.0541e-02, -6.7630e-02,\n",
            "         3.7472e-02,  4.7698e-02,  3.4265e-02, -2.5149e-02,  2.3159e-02,\n",
            "        -3.1227e-02,  4.0826e-02,  3.4853e-02, -3.1539e-02,  4.7430e-02,\n",
            "         4.8305e-03,  4.6456e-02, -4.6054e-02,  1.3280e-01,  7.7235e-02,\n",
            "         1.2280e-01, -6.7540e-02,  1.6085e-02,  5.5234e-03, -7.1939e-02,\n",
            "        -3.2011e-02, -1.2092e-02,  1.9422e-02, -8.5761e-02,  3.1738e-02,\n",
            "        -3.2847e-02,  2.1005e-02, -2.5020e-02,  1.9298e-02,  2.6759e-02,\n",
            "        -4.4876e-04, -5.5594e-02,  6.2556e-02,  2.1886e-02,  5.0609e-02,\n",
            "         7.0339e-02,  9.5824e-03, -1.6018e-02, -8.6312e-02,  1.9917e-02,\n",
            "         2.2333e-02, -4.2614e-02,  1.7528e-03,  5.6141e-03,  2.0983e-02,\n",
            "        -7.5657e-02,  8.1358e-02,  7.7440e-02, -9.1359e-02, -6.1275e-04,\n",
            "        -4.2146e-02,  8.7820e-02,  2.6942e-02,  4.3830e-02, -4.4191e-02,\n",
            "        -2.5182e-02,  1.9773e-02,  2.9127e-02, -4.5252e-02,  1.7047e-02,\n",
            "         1.5753e-03, -3.9943e-03,  2.1588e-02,  4.0657e-02, -2.9719e-02,\n",
            "         1.6870e-02, -1.6984e-02,  4.4208e-02, -1.0120e-01, -7.1111e-03,\n",
            "        -1.8277e-02, -8.7241e-03, -4.2647e-02, -3.8302e-02, -2.5255e-02,\n",
            "         4.4226e-03, -2.4236e-02,  8.0159e-03, -9.4932e-03,  3.8076e-02,\n",
            "         1.1061e-01, -5.0217e-02,  4.0411e-02,  1.1564e-03, -5.4541e-02,\n",
            "         9.4918e-02,  5.0056e-02,  6.4322e-02, -2.5414e-02, -2.8741e-02,\n",
            "        -2.1844e-02, -9.4323e-02,  1.0376e-02,  2.7252e-02,  7.1410e-02,\n",
            "         3.7926e-02,  6.9148e-02, -8.4568e-03,  1.3670e-02,  9.4337e-04,\n",
            "         3.7587e-02,  1.5972e-02, -8.9620e-03, -1.7402e-03, -1.8129e-02,\n",
            "         6.4611e-02,  1.1442e-02, -3.0850e-02,  5.4780e-02,  7.2336e-03,\n",
            "        -1.1842e-02,  1.8305e-02, -6.1534e-02, -4.2031e-02, -2.2641e-02,\n",
            "         4.1579e-02,  7.7674e-02, -8.1423e-03, -3.4971e-03,  6.7355e-03,\n",
            "        -8.0391e-02, -8.3055e-02, -1.2363e-02,  1.0016e-01,  9.1859e-02,\n",
            "        -1.0090e-01, -5.5050e-02, -7.3082e-03])\n"
          ]
        }
      ]
    },
    {
      "cell_type": "code",
      "source": [
        ""
      ],
      "metadata": {
        "id": "j0ta1jzlaTH8"
      },
      "execution_count": null,
      "outputs": []
    }
  ],
  "metadata": {
    "colab": {
      "collapsed_sections": [],
      "name": "flair-NLP.ipynb",
      "provenance": []
    },
    "kernelspec": {
      "display_name": "Python 3",
      "name": "python3"
    },
    "language_info": {
      "name": "python"
    },
    "widgets": {
      "application/vnd.jupyter.widget-state+json": {
        "4953e802e4084c17ba66c62a7ecc9f02": {
          "model_module": "@jupyter-widgets/controls",
          "model_name": "HBoxModel",
          "model_module_version": "1.5.0",
          "state": {
            "_dom_classes": [],
            "_model_module": "@jupyter-widgets/controls",
            "_model_module_version": "1.5.0",
            "_model_name": "HBoxModel",
            "_view_count": null,
            "_view_module": "@jupyter-widgets/controls",
            "_view_module_version": "1.5.0",
            "_view_name": "HBoxView",
            "box_style": "",
            "children": [
              "IPY_MODEL_f748c6c2080f408789359a8c005486e4",
              "IPY_MODEL_f7284f1b716444dcbfea9a7da7aeb885",
              "IPY_MODEL_5d625c691c664974874a242231e86d06"
            ],
            "layout": "IPY_MODEL_695064ddbcbc4187890cdbf38957ef6a"
          }
        },
        "f748c6c2080f408789359a8c005486e4": {
          "model_module": "@jupyter-widgets/controls",
          "model_name": "HTMLModel",
          "model_module_version": "1.5.0",
          "state": {
            "_dom_classes": [],
            "_model_module": "@jupyter-widgets/controls",
            "_model_module_version": "1.5.0",
            "_model_name": "HTMLModel",
            "_view_count": null,
            "_view_module": "@jupyter-widgets/controls",
            "_view_module_version": "1.5.0",
            "_view_name": "HTMLView",
            "description": "",
            "description_tooltip": null,
            "layout": "IPY_MODEL_72fefb1572cd478c8cd73ce4b0c7474e",
            "placeholder": "​",
            "style": "IPY_MODEL_abb8af9bcfc246e291e3de20d7e760c0",
            "value": "Downloading: 100%"
          }
        },
        "f7284f1b716444dcbfea9a7da7aeb885": {
          "model_module": "@jupyter-widgets/controls",
          "model_name": "FloatProgressModel",
          "model_module_version": "1.5.0",
          "state": {
            "_dom_classes": [],
            "_model_module": "@jupyter-widgets/controls",
            "_model_module_version": "1.5.0",
            "_model_name": "FloatProgressModel",
            "_view_count": null,
            "_view_module": "@jupyter-widgets/controls",
            "_view_module_version": "1.5.0",
            "_view_name": "ProgressView",
            "bar_style": "success",
            "description": "",
            "description_tooltip": null,
            "layout": "IPY_MODEL_6b95e25769ac4a339cfac11d6a8de203",
            "max": 29,
            "min": 0,
            "orientation": "horizontal",
            "style": "IPY_MODEL_f77c0bdb9f474352874391a68bf23f16",
            "value": 29
          }
        },
        "5d625c691c664974874a242231e86d06": {
          "model_module": "@jupyter-widgets/controls",
          "model_name": "HTMLModel",
          "model_module_version": "1.5.0",
          "state": {
            "_dom_classes": [],
            "_model_module": "@jupyter-widgets/controls",
            "_model_module_version": "1.5.0",
            "_model_name": "HTMLModel",
            "_view_count": null,
            "_view_module": "@jupyter-widgets/controls",
            "_view_module_version": "1.5.0",
            "_view_name": "HTMLView",
            "description": "",
            "description_tooltip": null,
            "layout": "IPY_MODEL_02bf92d4d68642f5a3fb0a31970ac21e",
            "placeholder": "​",
            "style": "IPY_MODEL_1952c325a9ef4e43bd2d0eaba1bbbc0d",
            "value": " 29.0/29.0 [00:00&lt;00:00, 494B/s]"
          }
        },
        "695064ddbcbc4187890cdbf38957ef6a": {
          "model_module": "@jupyter-widgets/base",
          "model_name": "LayoutModel",
          "model_module_version": "1.2.0",
          "state": {
            "_model_module": "@jupyter-widgets/base",
            "_model_module_version": "1.2.0",
            "_model_name": "LayoutModel",
            "_view_count": null,
            "_view_module": "@jupyter-widgets/base",
            "_view_module_version": "1.2.0",
            "_view_name": "LayoutView",
            "align_content": null,
            "align_items": null,
            "align_self": null,
            "border": null,
            "bottom": null,
            "display": null,
            "flex": null,
            "flex_flow": null,
            "grid_area": null,
            "grid_auto_columns": null,
            "grid_auto_flow": null,
            "grid_auto_rows": null,
            "grid_column": null,
            "grid_gap": null,
            "grid_row": null,
            "grid_template_areas": null,
            "grid_template_columns": null,
            "grid_template_rows": null,
            "height": null,
            "justify_content": null,
            "justify_items": null,
            "left": null,
            "margin": null,
            "max_height": null,
            "max_width": null,
            "min_height": null,
            "min_width": null,
            "object_fit": null,
            "object_position": null,
            "order": null,
            "overflow": null,
            "overflow_x": null,
            "overflow_y": null,
            "padding": null,
            "right": null,
            "top": null,
            "visibility": null,
            "width": null
          }
        },
        "72fefb1572cd478c8cd73ce4b0c7474e": {
          "model_module": "@jupyter-widgets/base",
          "model_name": "LayoutModel",
          "model_module_version": "1.2.0",
          "state": {
            "_model_module": "@jupyter-widgets/base",
            "_model_module_version": "1.2.0",
            "_model_name": "LayoutModel",
            "_view_count": null,
            "_view_module": "@jupyter-widgets/base",
            "_view_module_version": "1.2.0",
            "_view_name": "LayoutView",
            "align_content": null,
            "align_items": null,
            "align_self": null,
            "border": null,
            "bottom": null,
            "display": null,
            "flex": null,
            "flex_flow": null,
            "grid_area": null,
            "grid_auto_columns": null,
            "grid_auto_flow": null,
            "grid_auto_rows": null,
            "grid_column": null,
            "grid_gap": null,
            "grid_row": null,
            "grid_template_areas": null,
            "grid_template_columns": null,
            "grid_template_rows": null,
            "height": null,
            "justify_content": null,
            "justify_items": null,
            "left": null,
            "margin": null,
            "max_height": null,
            "max_width": null,
            "min_height": null,
            "min_width": null,
            "object_fit": null,
            "object_position": null,
            "order": null,
            "overflow": null,
            "overflow_x": null,
            "overflow_y": null,
            "padding": null,
            "right": null,
            "top": null,
            "visibility": null,
            "width": null
          }
        },
        "abb8af9bcfc246e291e3de20d7e760c0": {
          "model_module": "@jupyter-widgets/controls",
          "model_name": "DescriptionStyleModel",
          "model_module_version": "1.5.0",
          "state": {
            "_model_module": "@jupyter-widgets/controls",
            "_model_module_version": "1.5.0",
            "_model_name": "DescriptionStyleModel",
            "_view_count": null,
            "_view_module": "@jupyter-widgets/base",
            "_view_module_version": "1.2.0",
            "_view_name": "StyleView",
            "description_width": ""
          }
        },
        "6b95e25769ac4a339cfac11d6a8de203": {
          "model_module": "@jupyter-widgets/base",
          "model_name": "LayoutModel",
          "model_module_version": "1.2.0",
          "state": {
            "_model_module": "@jupyter-widgets/base",
            "_model_module_version": "1.2.0",
            "_model_name": "LayoutModel",
            "_view_count": null,
            "_view_module": "@jupyter-widgets/base",
            "_view_module_version": "1.2.0",
            "_view_name": "LayoutView",
            "align_content": null,
            "align_items": null,
            "align_self": null,
            "border": null,
            "bottom": null,
            "display": null,
            "flex": null,
            "flex_flow": null,
            "grid_area": null,
            "grid_auto_columns": null,
            "grid_auto_flow": null,
            "grid_auto_rows": null,
            "grid_column": null,
            "grid_gap": null,
            "grid_row": null,
            "grid_template_areas": null,
            "grid_template_columns": null,
            "grid_template_rows": null,
            "height": null,
            "justify_content": null,
            "justify_items": null,
            "left": null,
            "margin": null,
            "max_height": null,
            "max_width": null,
            "min_height": null,
            "min_width": null,
            "object_fit": null,
            "object_position": null,
            "order": null,
            "overflow": null,
            "overflow_x": null,
            "overflow_y": null,
            "padding": null,
            "right": null,
            "top": null,
            "visibility": null,
            "width": null
          }
        },
        "f77c0bdb9f474352874391a68bf23f16": {
          "model_module": "@jupyter-widgets/controls",
          "model_name": "ProgressStyleModel",
          "model_module_version": "1.5.0",
          "state": {
            "_model_module": "@jupyter-widgets/controls",
            "_model_module_version": "1.5.0",
            "_model_name": "ProgressStyleModel",
            "_view_count": null,
            "_view_module": "@jupyter-widgets/base",
            "_view_module_version": "1.2.0",
            "_view_name": "StyleView",
            "bar_color": null,
            "description_width": ""
          }
        },
        "02bf92d4d68642f5a3fb0a31970ac21e": {
          "model_module": "@jupyter-widgets/base",
          "model_name": "LayoutModel",
          "model_module_version": "1.2.0",
          "state": {
            "_model_module": "@jupyter-widgets/base",
            "_model_module_version": "1.2.0",
            "_model_name": "LayoutModel",
            "_view_count": null,
            "_view_module": "@jupyter-widgets/base",
            "_view_module_version": "1.2.0",
            "_view_name": "LayoutView",
            "align_content": null,
            "align_items": null,
            "align_self": null,
            "border": null,
            "bottom": null,
            "display": null,
            "flex": null,
            "flex_flow": null,
            "grid_area": null,
            "grid_auto_columns": null,
            "grid_auto_flow": null,
            "grid_auto_rows": null,
            "grid_column": null,
            "grid_gap": null,
            "grid_row": null,
            "grid_template_areas": null,
            "grid_template_columns": null,
            "grid_template_rows": null,
            "height": null,
            "justify_content": null,
            "justify_items": null,
            "left": null,
            "margin": null,
            "max_height": null,
            "max_width": null,
            "min_height": null,
            "min_width": null,
            "object_fit": null,
            "object_position": null,
            "order": null,
            "overflow": null,
            "overflow_x": null,
            "overflow_y": null,
            "padding": null,
            "right": null,
            "top": null,
            "visibility": null,
            "width": null
          }
        },
        "1952c325a9ef4e43bd2d0eaba1bbbc0d": {
          "model_module": "@jupyter-widgets/controls",
          "model_name": "DescriptionStyleModel",
          "model_module_version": "1.5.0",
          "state": {
            "_model_module": "@jupyter-widgets/controls",
            "_model_module_version": "1.5.0",
            "_model_name": "DescriptionStyleModel",
            "_view_count": null,
            "_view_module": "@jupyter-widgets/base",
            "_view_module_version": "1.2.0",
            "_view_name": "StyleView",
            "description_width": ""
          }
        },
        "2913225697394c8898b8452355a9ce1c": {
          "model_module": "@jupyter-widgets/controls",
          "model_name": "HBoxModel",
          "model_module_version": "1.5.0",
          "state": {
            "_dom_classes": [],
            "_model_module": "@jupyter-widgets/controls",
            "_model_module_version": "1.5.0",
            "_model_name": "HBoxModel",
            "_view_count": null,
            "_view_module": "@jupyter-widgets/controls",
            "_view_module_version": "1.5.0",
            "_view_name": "HBoxView",
            "box_style": "",
            "children": [
              "IPY_MODEL_da30655bd0f049b0bbec67059bdf1558",
              "IPY_MODEL_e9c05ee68ce6468280c4561d5c2f12f4",
              "IPY_MODEL_896c1c7988a84806b6efebfec6f83381"
            ],
            "layout": "IPY_MODEL_14c3d8669a3e47cfbd572aaff0886127"
          }
        },
        "da30655bd0f049b0bbec67059bdf1558": {
          "model_module": "@jupyter-widgets/controls",
          "model_name": "HTMLModel",
          "model_module_version": "1.5.0",
          "state": {
            "_dom_classes": [],
            "_model_module": "@jupyter-widgets/controls",
            "_model_module_version": "1.5.0",
            "_model_name": "HTMLModel",
            "_view_count": null,
            "_view_module": "@jupyter-widgets/controls",
            "_view_module_version": "1.5.0",
            "_view_name": "HTMLView",
            "description": "",
            "description_tooltip": null,
            "layout": "IPY_MODEL_f59fde1bca3f421ea43806a35607476c",
            "placeholder": "​",
            "style": "IPY_MODEL_ccc193be066e4c529fa5d2bc0e4f2bac",
            "value": "Downloading: 100%"
          }
        },
        "e9c05ee68ce6468280c4561d5c2f12f4": {
          "model_module": "@jupyter-widgets/controls",
          "model_name": "FloatProgressModel",
          "model_module_version": "1.5.0",
          "state": {
            "_dom_classes": [],
            "_model_module": "@jupyter-widgets/controls",
            "_model_module_version": "1.5.0",
            "_model_name": "FloatProgressModel",
            "_view_count": null,
            "_view_module": "@jupyter-widgets/controls",
            "_view_module_version": "1.5.0",
            "_view_name": "ProgressView",
            "bar_style": "success",
            "description": "",
            "description_tooltip": null,
            "layout": "IPY_MODEL_0fff23f5766b48c0bd0789c0916fc7f8",
            "max": 625,
            "min": 0,
            "orientation": "horizontal",
            "style": "IPY_MODEL_e5f1a4d1b5454f488bc8e2607f01448b",
            "value": 625
          }
        },
        "896c1c7988a84806b6efebfec6f83381": {
          "model_module": "@jupyter-widgets/controls",
          "model_name": "HTMLModel",
          "model_module_version": "1.5.0",
          "state": {
            "_dom_classes": [],
            "_model_module": "@jupyter-widgets/controls",
            "_model_module_version": "1.5.0",
            "_model_name": "HTMLModel",
            "_view_count": null,
            "_view_module": "@jupyter-widgets/controls",
            "_view_module_version": "1.5.0",
            "_view_name": "HTMLView",
            "description": "",
            "description_tooltip": null,
            "layout": "IPY_MODEL_c4e7bb030736428e83fbfce885e79213",
            "placeholder": "​",
            "style": "IPY_MODEL_37f7b5fdc1ad43b0ac218eff24caa9af",
            "value": " 625/625 [00:00&lt;00:00, 13.4kB/s]"
          }
        },
        "14c3d8669a3e47cfbd572aaff0886127": {
          "model_module": "@jupyter-widgets/base",
          "model_name": "LayoutModel",
          "model_module_version": "1.2.0",
          "state": {
            "_model_module": "@jupyter-widgets/base",
            "_model_module_version": "1.2.0",
            "_model_name": "LayoutModel",
            "_view_count": null,
            "_view_module": "@jupyter-widgets/base",
            "_view_module_version": "1.2.0",
            "_view_name": "LayoutView",
            "align_content": null,
            "align_items": null,
            "align_self": null,
            "border": null,
            "bottom": null,
            "display": null,
            "flex": null,
            "flex_flow": null,
            "grid_area": null,
            "grid_auto_columns": null,
            "grid_auto_flow": null,
            "grid_auto_rows": null,
            "grid_column": null,
            "grid_gap": null,
            "grid_row": null,
            "grid_template_areas": null,
            "grid_template_columns": null,
            "grid_template_rows": null,
            "height": null,
            "justify_content": null,
            "justify_items": null,
            "left": null,
            "margin": null,
            "max_height": null,
            "max_width": null,
            "min_height": null,
            "min_width": null,
            "object_fit": null,
            "object_position": null,
            "order": null,
            "overflow": null,
            "overflow_x": null,
            "overflow_y": null,
            "padding": null,
            "right": null,
            "top": null,
            "visibility": null,
            "width": null
          }
        },
        "f59fde1bca3f421ea43806a35607476c": {
          "model_module": "@jupyter-widgets/base",
          "model_name": "LayoutModel",
          "model_module_version": "1.2.0",
          "state": {
            "_model_module": "@jupyter-widgets/base",
            "_model_module_version": "1.2.0",
            "_model_name": "LayoutModel",
            "_view_count": null,
            "_view_module": "@jupyter-widgets/base",
            "_view_module_version": "1.2.0",
            "_view_name": "LayoutView",
            "align_content": null,
            "align_items": null,
            "align_self": null,
            "border": null,
            "bottom": null,
            "display": null,
            "flex": null,
            "flex_flow": null,
            "grid_area": null,
            "grid_auto_columns": null,
            "grid_auto_flow": null,
            "grid_auto_rows": null,
            "grid_column": null,
            "grid_gap": null,
            "grid_row": null,
            "grid_template_areas": null,
            "grid_template_columns": null,
            "grid_template_rows": null,
            "height": null,
            "justify_content": null,
            "justify_items": null,
            "left": null,
            "margin": null,
            "max_height": null,
            "max_width": null,
            "min_height": null,
            "min_width": null,
            "object_fit": null,
            "object_position": null,
            "order": null,
            "overflow": null,
            "overflow_x": null,
            "overflow_y": null,
            "padding": null,
            "right": null,
            "top": null,
            "visibility": null,
            "width": null
          }
        },
        "ccc193be066e4c529fa5d2bc0e4f2bac": {
          "model_module": "@jupyter-widgets/controls",
          "model_name": "DescriptionStyleModel",
          "model_module_version": "1.5.0",
          "state": {
            "_model_module": "@jupyter-widgets/controls",
            "_model_module_version": "1.5.0",
            "_model_name": "DescriptionStyleModel",
            "_view_count": null,
            "_view_module": "@jupyter-widgets/base",
            "_view_module_version": "1.2.0",
            "_view_name": "StyleView",
            "description_width": ""
          }
        },
        "0fff23f5766b48c0bd0789c0916fc7f8": {
          "model_module": "@jupyter-widgets/base",
          "model_name": "LayoutModel",
          "model_module_version": "1.2.0",
          "state": {
            "_model_module": "@jupyter-widgets/base",
            "_model_module_version": "1.2.0",
            "_model_name": "LayoutModel",
            "_view_count": null,
            "_view_module": "@jupyter-widgets/base",
            "_view_module_version": "1.2.0",
            "_view_name": "LayoutView",
            "align_content": null,
            "align_items": null,
            "align_self": null,
            "border": null,
            "bottom": null,
            "display": null,
            "flex": null,
            "flex_flow": null,
            "grid_area": null,
            "grid_auto_columns": null,
            "grid_auto_flow": null,
            "grid_auto_rows": null,
            "grid_column": null,
            "grid_gap": null,
            "grid_row": null,
            "grid_template_areas": null,
            "grid_template_columns": null,
            "grid_template_rows": null,
            "height": null,
            "justify_content": null,
            "justify_items": null,
            "left": null,
            "margin": null,
            "max_height": null,
            "max_width": null,
            "min_height": null,
            "min_width": null,
            "object_fit": null,
            "object_position": null,
            "order": null,
            "overflow": null,
            "overflow_x": null,
            "overflow_y": null,
            "padding": null,
            "right": null,
            "top": null,
            "visibility": null,
            "width": null
          }
        },
        "e5f1a4d1b5454f488bc8e2607f01448b": {
          "model_module": "@jupyter-widgets/controls",
          "model_name": "ProgressStyleModel",
          "model_module_version": "1.5.0",
          "state": {
            "_model_module": "@jupyter-widgets/controls",
            "_model_module_version": "1.5.0",
            "_model_name": "ProgressStyleModel",
            "_view_count": null,
            "_view_module": "@jupyter-widgets/base",
            "_view_module_version": "1.2.0",
            "_view_name": "StyleView",
            "bar_color": null,
            "description_width": ""
          }
        },
        "c4e7bb030736428e83fbfce885e79213": {
          "model_module": "@jupyter-widgets/base",
          "model_name": "LayoutModel",
          "model_module_version": "1.2.0",
          "state": {
            "_model_module": "@jupyter-widgets/base",
            "_model_module_version": "1.2.0",
            "_model_name": "LayoutModel",
            "_view_count": null,
            "_view_module": "@jupyter-widgets/base",
            "_view_module_version": "1.2.0",
            "_view_name": "LayoutView",
            "align_content": null,
            "align_items": null,
            "align_self": null,
            "border": null,
            "bottom": null,
            "display": null,
            "flex": null,
            "flex_flow": null,
            "grid_area": null,
            "grid_auto_columns": null,
            "grid_auto_flow": null,
            "grid_auto_rows": null,
            "grid_column": null,
            "grid_gap": null,
            "grid_row": null,
            "grid_template_areas": null,
            "grid_template_columns": null,
            "grid_template_rows": null,
            "height": null,
            "justify_content": null,
            "justify_items": null,
            "left": null,
            "margin": null,
            "max_height": null,
            "max_width": null,
            "min_height": null,
            "min_width": null,
            "object_fit": null,
            "object_position": null,
            "order": null,
            "overflow": null,
            "overflow_x": null,
            "overflow_y": null,
            "padding": null,
            "right": null,
            "top": null,
            "visibility": null,
            "width": null
          }
        },
        "37f7b5fdc1ad43b0ac218eff24caa9af": {
          "model_module": "@jupyter-widgets/controls",
          "model_name": "DescriptionStyleModel",
          "model_module_version": "1.5.0",
          "state": {
            "_model_module": "@jupyter-widgets/controls",
            "_model_module_version": "1.5.0",
            "_model_name": "DescriptionStyleModel",
            "_view_count": null,
            "_view_module": "@jupyter-widgets/base",
            "_view_module_version": "1.2.0",
            "_view_name": "StyleView",
            "description_width": ""
          }
        },
        "4df05c8e3bad41258eaeead74a0ceeb3": {
          "model_module": "@jupyter-widgets/controls",
          "model_name": "HBoxModel",
          "model_module_version": "1.5.0",
          "state": {
            "_dom_classes": [],
            "_model_module": "@jupyter-widgets/controls",
            "_model_module_version": "1.5.0",
            "_model_name": "HBoxModel",
            "_view_count": null,
            "_view_module": "@jupyter-widgets/controls",
            "_view_module_version": "1.5.0",
            "_view_name": "HBoxView",
            "box_style": "",
            "children": [
              "IPY_MODEL_9d6d797077c143999efbfa55e12d354a",
              "IPY_MODEL_389de50e29b3422392fb3173ef96c776",
              "IPY_MODEL_721425611cf14462ba02e3f740a0cdf0"
            ],
            "layout": "IPY_MODEL_22b0033af5c94380a1983e43ac9220f1"
          }
        },
        "9d6d797077c143999efbfa55e12d354a": {
          "model_module": "@jupyter-widgets/controls",
          "model_name": "HTMLModel",
          "model_module_version": "1.5.0",
          "state": {
            "_dom_classes": [],
            "_model_module": "@jupyter-widgets/controls",
            "_model_module_version": "1.5.0",
            "_model_name": "HTMLModel",
            "_view_count": null,
            "_view_module": "@jupyter-widgets/controls",
            "_view_module_version": "1.5.0",
            "_view_name": "HTMLView",
            "description": "",
            "description_tooltip": null,
            "layout": "IPY_MODEL_e09d977096f643bd94b4823fa2cc6a65",
            "placeholder": "​",
            "style": "IPY_MODEL_8bcf4d6dd4cf476f9a83a5544838bd5d",
            "value": "Downloading: 100%"
          }
        },
        "389de50e29b3422392fb3173ef96c776": {
          "model_module": "@jupyter-widgets/controls",
          "model_name": "FloatProgressModel",
          "model_module_version": "1.5.0",
          "state": {
            "_dom_classes": [],
            "_model_module": "@jupyter-widgets/controls",
            "_model_module_version": "1.5.0",
            "_model_name": "FloatProgressModel",
            "_view_count": null,
            "_view_module": "@jupyter-widgets/controls",
            "_view_module_version": "1.5.0",
            "_view_name": "ProgressView",
            "bar_style": "success",
            "description": "",
            "description_tooltip": null,
            "layout": "IPY_MODEL_92875159c284489f9ca1865a80914467",
            "max": 995526,
            "min": 0,
            "orientation": "horizontal",
            "style": "IPY_MODEL_454a63b893f54c8ea9a22e4cbba9115d",
            "value": 995526
          }
        },
        "721425611cf14462ba02e3f740a0cdf0": {
          "model_module": "@jupyter-widgets/controls",
          "model_name": "HTMLModel",
          "model_module_version": "1.5.0",
          "state": {
            "_dom_classes": [],
            "_model_module": "@jupyter-widgets/controls",
            "_model_module_version": "1.5.0",
            "_model_name": "HTMLModel",
            "_view_count": null,
            "_view_module": "@jupyter-widgets/controls",
            "_view_module_version": "1.5.0",
            "_view_name": "HTMLView",
            "description": "",
            "description_tooltip": null,
            "layout": "IPY_MODEL_ac8a1a33c4694be7a51afa476d6ae08f",
            "placeholder": "​",
            "style": "IPY_MODEL_f4073a0002c54df393f3a9bed8a87fd3",
            "value": " 972k/972k [00:00&lt;00:00, 1.06MB/s]"
          }
        },
        "22b0033af5c94380a1983e43ac9220f1": {
          "model_module": "@jupyter-widgets/base",
          "model_name": "LayoutModel",
          "model_module_version": "1.2.0",
          "state": {
            "_model_module": "@jupyter-widgets/base",
            "_model_module_version": "1.2.0",
            "_model_name": "LayoutModel",
            "_view_count": null,
            "_view_module": "@jupyter-widgets/base",
            "_view_module_version": "1.2.0",
            "_view_name": "LayoutView",
            "align_content": null,
            "align_items": null,
            "align_self": null,
            "border": null,
            "bottom": null,
            "display": null,
            "flex": null,
            "flex_flow": null,
            "grid_area": null,
            "grid_auto_columns": null,
            "grid_auto_flow": null,
            "grid_auto_rows": null,
            "grid_column": null,
            "grid_gap": null,
            "grid_row": null,
            "grid_template_areas": null,
            "grid_template_columns": null,
            "grid_template_rows": null,
            "height": null,
            "justify_content": null,
            "justify_items": null,
            "left": null,
            "margin": null,
            "max_height": null,
            "max_width": null,
            "min_height": null,
            "min_width": null,
            "object_fit": null,
            "object_position": null,
            "order": null,
            "overflow": null,
            "overflow_x": null,
            "overflow_y": null,
            "padding": null,
            "right": null,
            "top": null,
            "visibility": null,
            "width": null
          }
        },
        "e09d977096f643bd94b4823fa2cc6a65": {
          "model_module": "@jupyter-widgets/base",
          "model_name": "LayoutModel",
          "model_module_version": "1.2.0",
          "state": {
            "_model_module": "@jupyter-widgets/base",
            "_model_module_version": "1.2.0",
            "_model_name": "LayoutModel",
            "_view_count": null,
            "_view_module": "@jupyter-widgets/base",
            "_view_module_version": "1.2.0",
            "_view_name": "LayoutView",
            "align_content": null,
            "align_items": null,
            "align_self": null,
            "border": null,
            "bottom": null,
            "display": null,
            "flex": null,
            "flex_flow": null,
            "grid_area": null,
            "grid_auto_columns": null,
            "grid_auto_flow": null,
            "grid_auto_rows": null,
            "grid_column": null,
            "grid_gap": null,
            "grid_row": null,
            "grid_template_areas": null,
            "grid_template_columns": null,
            "grid_template_rows": null,
            "height": null,
            "justify_content": null,
            "justify_items": null,
            "left": null,
            "margin": null,
            "max_height": null,
            "max_width": null,
            "min_height": null,
            "min_width": null,
            "object_fit": null,
            "object_position": null,
            "order": null,
            "overflow": null,
            "overflow_x": null,
            "overflow_y": null,
            "padding": null,
            "right": null,
            "top": null,
            "visibility": null,
            "width": null
          }
        },
        "8bcf4d6dd4cf476f9a83a5544838bd5d": {
          "model_module": "@jupyter-widgets/controls",
          "model_name": "DescriptionStyleModel",
          "model_module_version": "1.5.0",
          "state": {
            "_model_module": "@jupyter-widgets/controls",
            "_model_module_version": "1.5.0",
            "_model_name": "DescriptionStyleModel",
            "_view_count": null,
            "_view_module": "@jupyter-widgets/base",
            "_view_module_version": "1.2.0",
            "_view_name": "StyleView",
            "description_width": ""
          }
        },
        "92875159c284489f9ca1865a80914467": {
          "model_module": "@jupyter-widgets/base",
          "model_name": "LayoutModel",
          "model_module_version": "1.2.0",
          "state": {
            "_model_module": "@jupyter-widgets/base",
            "_model_module_version": "1.2.0",
            "_model_name": "LayoutModel",
            "_view_count": null,
            "_view_module": "@jupyter-widgets/base",
            "_view_module_version": "1.2.0",
            "_view_name": "LayoutView",
            "align_content": null,
            "align_items": null,
            "align_self": null,
            "border": null,
            "bottom": null,
            "display": null,
            "flex": null,
            "flex_flow": null,
            "grid_area": null,
            "grid_auto_columns": null,
            "grid_auto_flow": null,
            "grid_auto_rows": null,
            "grid_column": null,
            "grid_gap": null,
            "grid_row": null,
            "grid_template_areas": null,
            "grid_template_columns": null,
            "grid_template_rows": null,
            "height": null,
            "justify_content": null,
            "justify_items": null,
            "left": null,
            "margin": null,
            "max_height": null,
            "max_width": null,
            "min_height": null,
            "min_width": null,
            "object_fit": null,
            "object_position": null,
            "order": null,
            "overflow": null,
            "overflow_x": null,
            "overflow_y": null,
            "padding": null,
            "right": null,
            "top": null,
            "visibility": null,
            "width": null
          }
        },
        "454a63b893f54c8ea9a22e4cbba9115d": {
          "model_module": "@jupyter-widgets/controls",
          "model_name": "ProgressStyleModel",
          "model_module_version": "1.5.0",
          "state": {
            "_model_module": "@jupyter-widgets/controls",
            "_model_module_version": "1.5.0",
            "_model_name": "ProgressStyleModel",
            "_view_count": null,
            "_view_module": "@jupyter-widgets/base",
            "_view_module_version": "1.2.0",
            "_view_name": "StyleView",
            "bar_color": null,
            "description_width": ""
          }
        },
        "ac8a1a33c4694be7a51afa476d6ae08f": {
          "model_module": "@jupyter-widgets/base",
          "model_name": "LayoutModel",
          "model_module_version": "1.2.0",
          "state": {
            "_model_module": "@jupyter-widgets/base",
            "_model_module_version": "1.2.0",
            "_model_name": "LayoutModel",
            "_view_count": null,
            "_view_module": "@jupyter-widgets/base",
            "_view_module_version": "1.2.0",
            "_view_name": "LayoutView",
            "align_content": null,
            "align_items": null,
            "align_self": null,
            "border": null,
            "bottom": null,
            "display": null,
            "flex": null,
            "flex_flow": null,
            "grid_area": null,
            "grid_auto_columns": null,
            "grid_auto_flow": null,
            "grid_auto_rows": null,
            "grid_column": null,
            "grid_gap": null,
            "grid_row": null,
            "grid_template_areas": null,
            "grid_template_columns": null,
            "grid_template_rows": null,
            "height": null,
            "justify_content": null,
            "justify_items": null,
            "left": null,
            "margin": null,
            "max_height": null,
            "max_width": null,
            "min_height": null,
            "min_width": null,
            "object_fit": null,
            "object_position": null,
            "order": null,
            "overflow": null,
            "overflow_x": null,
            "overflow_y": null,
            "padding": null,
            "right": null,
            "top": null,
            "visibility": null,
            "width": null
          }
        },
        "f4073a0002c54df393f3a9bed8a87fd3": {
          "model_module": "@jupyter-widgets/controls",
          "model_name": "DescriptionStyleModel",
          "model_module_version": "1.5.0",
          "state": {
            "_model_module": "@jupyter-widgets/controls",
            "_model_module_version": "1.5.0",
            "_model_name": "DescriptionStyleModel",
            "_view_count": null,
            "_view_module": "@jupyter-widgets/base",
            "_view_module_version": "1.2.0",
            "_view_name": "StyleView",
            "description_width": ""
          }
        },
        "e475511a8d994e18972cb2b81dcf5dc8": {
          "model_module": "@jupyter-widgets/controls",
          "model_name": "HBoxModel",
          "model_module_version": "1.5.0",
          "state": {
            "_dom_classes": [],
            "_model_module": "@jupyter-widgets/controls",
            "_model_module_version": "1.5.0",
            "_model_name": "HBoxModel",
            "_view_count": null,
            "_view_module": "@jupyter-widgets/controls",
            "_view_module_version": "1.5.0",
            "_view_name": "HBoxView",
            "box_style": "",
            "children": [
              "IPY_MODEL_8f86e8305f1543458bab3c89a20bda7e",
              "IPY_MODEL_be2a7c6049724ec7a13f8352ebc0a4b8",
              "IPY_MODEL_48445ac713e24cb9ba8121d0a687a9f2"
            ],
            "layout": "IPY_MODEL_22c97e322f024d8299dd264582efb151"
          }
        },
        "8f86e8305f1543458bab3c89a20bda7e": {
          "model_module": "@jupyter-widgets/controls",
          "model_name": "HTMLModel",
          "model_module_version": "1.5.0",
          "state": {
            "_dom_classes": [],
            "_model_module": "@jupyter-widgets/controls",
            "_model_module_version": "1.5.0",
            "_model_name": "HTMLModel",
            "_view_count": null,
            "_view_module": "@jupyter-widgets/controls",
            "_view_module_version": "1.5.0",
            "_view_name": "HTMLView",
            "description": "",
            "description_tooltip": null,
            "layout": "IPY_MODEL_74c55f72d20a446b971d234183ebf94d",
            "placeholder": "​",
            "style": "IPY_MODEL_6c1098ef37d54c34a8b35e288ffb1483",
            "value": "Downloading: 100%"
          }
        },
        "be2a7c6049724ec7a13f8352ebc0a4b8": {
          "model_module": "@jupyter-widgets/controls",
          "model_name": "FloatProgressModel",
          "model_module_version": "1.5.0",
          "state": {
            "_dom_classes": [],
            "_model_module": "@jupyter-widgets/controls",
            "_model_module_version": "1.5.0",
            "_model_name": "FloatProgressModel",
            "_view_count": null,
            "_view_module": "@jupyter-widgets/controls",
            "_view_module_version": "1.5.0",
            "_view_name": "ProgressView",
            "bar_style": "success",
            "description": "",
            "description_tooltip": null,
            "layout": "IPY_MODEL_d3a092d94f324767a49f4969e1df9855",
            "max": 1961828,
            "min": 0,
            "orientation": "horizontal",
            "style": "IPY_MODEL_af973986974d45968d0887176adb0592",
            "value": 1961828
          }
        },
        "48445ac713e24cb9ba8121d0a687a9f2": {
          "model_module": "@jupyter-widgets/controls",
          "model_name": "HTMLModel",
          "model_module_version": "1.5.0",
          "state": {
            "_dom_classes": [],
            "_model_module": "@jupyter-widgets/controls",
            "_model_module_version": "1.5.0",
            "_model_name": "HTMLModel",
            "_view_count": null,
            "_view_module": "@jupyter-widgets/controls",
            "_view_module_version": "1.5.0",
            "_view_name": "HTMLView",
            "description": "",
            "description_tooltip": null,
            "layout": "IPY_MODEL_ae801f20dd3d49d1b83b1c3ef5034028",
            "placeholder": "​",
            "style": "IPY_MODEL_1d548384fce04c6db00ec5536d5c639f",
            "value": " 1.87M/1.87M [00:00&lt;00:00, 2.88MB/s]"
          }
        },
        "22c97e322f024d8299dd264582efb151": {
          "model_module": "@jupyter-widgets/base",
          "model_name": "LayoutModel",
          "model_module_version": "1.2.0",
          "state": {
            "_model_module": "@jupyter-widgets/base",
            "_model_module_version": "1.2.0",
            "_model_name": "LayoutModel",
            "_view_count": null,
            "_view_module": "@jupyter-widgets/base",
            "_view_module_version": "1.2.0",
            "_view_name": "LayoutView",
            "align_content": null,
            "align_items": null,
            "align_self": null,
            "border": null,
            "bottom": null,
            "display": null,
            "flex": null,
            "flex_flow": null,
            "grid_area": null,
            "grid_auto_columns": null,
            "grid_auto_flow": null,
            "grid_auto_rows": null,
            "grid_column": null,
            "grid_gap": null,
            "grid_row": null,
            "grid_template_areas": null,
            "grid_template_columns": null,
            "grid_template_rows": null,
            "height": null,
            "justify_content": null,
            "justify_items": null,
            "left": null,
            "margin": null,
            "max_height": null,
            "max_width": null,
            "min_height": null,
            "min_width": null,
            "object_fit": null,
            "object_position": null,
            "order": null,
            "overflow": null,
            "overflow_x": null,
            "overflow_y": null,
            "padding": null,
            "right": null,
            "top": null,
            "visibility": null,
            "width": null
          }
        },
        "74c55f72d20a446b971d234183ebf94d": {
          "model_module": "@jupyter-widgets/base",
          "model_name": "LayoutModel",
          "model_module_version": "1.2.0",
          "state": {
            "_model_module": "@jupyter-widgets/base",
            "_model_module_version": "1.2.0",
            "_model_name": "LayoutModel",
            "_view_count": null,
            "_view_module": "@jupyter-widgets/base",
            "_view_module_version": "1.2.0",
            "_view_name": "LayoutView",
            "align_content": null,
            "align_items": null,
            "align_self": null,
            "border": null,
            "bottom": null,
            "display": null,
            "flex": null,
            "flex_flow": null,
            "grid_area": null,
            "grid_auto_columns": null,
            "grid_auto_flow": null,
            "grid_auto_rows": null,
            "grid_column": null,
            "grid_gap": null,
            "grid_row": null,
            "grid_template_areas": null,
            "grid_template_columns": null,
            "grid_template_rows": null,
            "height": null,
            "justify_content": null,
            "justify_items": null,
            "left": null,
            "margin": null,
            "max_height": null,
            "max_width": null,
            "min_height": null,
            "min_width": null,
            "object_fit": null,
            "object_position": null,
            "order": null,
            "overflow": null,
            "overflow_x": null,
            "overflow_y": null,
            "padding": null,
            "right": null,
            "top": null,
            "visibility": null,
            "width": null
          }
        },
        "6c1098ef37d54c34a8b35e288ffb1483": {
          "model_module": "@jupyter-widgets/controls",
          "model_name": "DescriptionStyleModel",
          "model_module_version": "1.5.0",
          "state": {
            "_model_module": "@jupyter-widgets/controls",
            "_model_module_version": "1.5.0",
            "_model_name": "DescriptionStyleModel",
            "_view_count": null,
            "_view_module": "@jupyter-widgets/base",
            "_view_module_version": "1.2.0",
            "_view_name": "StyleView",
            "description_width": ""
          }
        },
        "d3a092d94f324767a49f4969e1df9855": {
          "model_module": "@jupyter-widgets/base",
          "model_name": "LayoutModel",
          "model_module_version": "1.2.0",
          "state": {
            "_model_module": "@jupyter-widgets/base",
            "_model_module_version": "1.2.0",
            "_model_name": "LayoutModel",
            "_view_count": null,
            "_view_module": "@jupyter-widgets/base",
            "_view_module_version": "1.2.0",
            "_view_name": "LayoutView",
            "align_content": null,
            "align_items": null,
            "align_self": null,
            "border": null,
            "bottom": null,
            "display": null,
            "flex": null,
            "flex_flow": null,
            "grid_area": null,
            "grid_auto_columns": null,
            "grid_auto_flow": null,
            "grid_auto_rows": null,
            "grid_column": null,
            "grid_gap": null,
            "grid_row": null,
            "grid_template_areas": null,
            "grid_template_columns": null,
            "grid_template_rows": null,
            "height": null,
            "justify_content": null,
            "justify_items": null,
            "left": null,
            "margin": null,
            "max_height": null,
            "max_width": null,
            "min_height": null,
            "min_width": null,
            "object_fit": null,
            "object_position": null,
            "order": null,
            "overflow": null,
            "overflow_x": null,
            "overflow_y": null,
            "padding": null,
            "right": null,
            "top": null,
            "visibility": null,
            "width": null
          }
        },
        "af973986974d45968d0887176adb0592": {
          "model_module": "@jupyter-widgets/controls",
          "model_name": "ProgressStyleModel",
          "model_module_version": "1.5.0",
          "state": {
            "_model_module": "@jupyter-widgets/controls",
            "_model_module_version": "1.5.0",
            "_model_name": "ProgressStyleModel",
            "_view_count": null,
            "_view_module": "@jupyter-widgets/base",
            "_view_module_version": "1.2.0",
            "_view_name": "StyleView",
            "bar_color": null,
            "description_width": ""
          }
        },
        "ae801f20dd3d49d1b83b1c3ef5034028": {
          "model_module": "@jupyter-widgets/base",
          "model_name": "LayoutModel",
          "model_module_version": "1.2.0",
          "state": {
            "_model_module": "@jupyter-widgets/base",
            "_model_module_version": "1.2.0",
            "_model_name": "LayoutModel",
            "_view_count": null,
            "_view_module": "@jupyter-widgets/base",
            "_view_module_version": "1.2.0",
            "_view_name": "LayoutView",
            "align_content": null,
            "align_items": null,
            "align_self": null,
            "border": null,
            "bottom": null,
            "display": null,
            "flex": null,
            "flex_flow": null,
            "grid_area": null,
            "grid_auto_columns": null,
            "grid_auto_flow": null,
            "grid_auto_rows": null,
            "grid_column": null,
            "grid_gap": null,
            "grid_row": null,
            "grid_template_areas": null,
            "grid_template_columns": null,
            "grid_template_rows": null,
            "height": null,
            "justify_content": null,
            "justify_items": null,
            "left": null,
            "margin": null,
            "max_height": null,
            "max_width": null,
            "min_height": null,
            "min_width": null,
            "object_fit": null,
            "object_position": null,
            "order": null,
            "overflow": null,
            "overflow_x": null,
            "overflow_y": null,
            "padding": null,
            "right": null,
            "top": null,
            "visibility": null,
            "width": null
          }
        },
        "1d548384fce04c6db00ec5536d5c639f": {
          "model_module": "@jupyter-widgets/controls",
          "model_name": "DescriptionStyleModel",
          "model_module_version": "1.5.0",
          "state": {
            "_model_module": "@jupyter-widgets/controls",
            "_model_module_version": "1.5.0",
            "_model_name": "DescriptionStyleModel",
            "_view_count": null,
            "_view_module": "@jupyter-widgets/base",
            "_view_module_version": "1.2.0",
            "_view_name": "StyleView",
            "description_width": ""
          }
        },
        "59114378eb154a3d890aec7fa5d27a08": {
          "model_module": "@jupyter-widgets/controls",
          "model_name": "HBoxModel",
          "model_module_version": "1.5.0",
          "state": {
            "_dom_classes": [],
            "_model_module": "@jupyter-widgets/controls",
            "_model_module_version": "1.5.0",
            "_model_name": "HBoxModel",
            "_view_count": null,
            "_view_module": "@jupyter-widgets/controls",
            "_view_module_version": "1.5.0",
            "_view_name": "HBoxView",
            "box_style": "",
            "children": [
              "IPY_MODEL_ee4274cf448c44079b7441004af2c9a4",
              "IPY_MODEL_0eb7ac68189641e4a4a80c91cf39aa42",
              "IPY_MODEL_d53c2fa2ad6f4b25b541645d45ed728f"
            ],
            "layout": "IPY_MODEL_bf755fa83d41437c8baf93c77ac9ac26"
          }
        },
        "ee4274cf448c44079b7441004af2c9a4": {
          "model_module": "@jupyter-widgets/controls",
          "model_name": "HTMLModel",
          "model_module_version": "1.5.0",
          "state": {
            "_dom_classes": [],
            "_model_module": "@jupyter-widgets/controls",
            "_model_module_version": "1.5.0",
            "_model_name": "HTMLModel",
            "_view_count": null,
            "_view_module": "@jupyter-widgets/controls",
            "_view_module_version": "1.5.0",
            "_view_name": "HTMLView",
            "description": "",
            "description_tooltip": null,
            "layout": "IPY_MODEL_49957b669d744196b112883a40c925b4",
            "placeholder": "​",
            "style": "IPY_MODEL_2f22b192c6b0468494a4d33c616d803a",
            "value": "Downloading: 100%"
          }
        },
        "0eb7ac68189641e4a4a80c91cf39aa42": {
          "model_module": "@jupyter-widgets/controls",
          "model_name": "FloatProgressModel",
          "model_module_version": "1.5.0",
          "state": {
            "_dom_classes": [],
            "_model_module": "@jupyter-widgets/controls",
            "_model_module_version": "1.5.0",
            "_model_name": "FloatProgressModel",
            "_view_count": null,
            "_view_module": "@jupyter-widgets/controls",
            "_view_module_version": "1.5.0",
            "_view_name": "ProgressView",
            "bar_style": "success",
            "description": "",
            "description_tooltip": null,
            "layout": "IPY_MODEL_d7271a27743f4ec09463be2df141802f",
            "max": 714314041,
            "min": 0,
            "orientation": "horizontal",
            "style": "IPY_MODEL_ec8002a6ad624cfe83b4575665a7640b",
            "value": 714314041
          }
        },
        "d53c2fa2ad6f4b25b541645d45ed728f": {
          "model_module": "@jupyter-widgets/controls",
          "model_name": "HTMLModel",
          "model_module_version": "1.5.0",
          "state": {
            "_dom_classes": [],
            "_model_module": "@jupyter-widgets/controls",
            "_model_module_version": "1.5.0",
            "_model_name": "HTMLModel",
            "_view_count": null,
            "_view_module": "@jupyter-widgets/controls",
            "_view_module_version": "1.5.0",
            "_view_name": "HTMLView",
            "description": "",
            "description_tooltip": null,
            "layout": "IPY_MODEL_8003f009e4194408a9f7e982e8bb4dfe",
            "placeholder": "​",
            "style": "IPY_MODEL_c395f37bdd0f42fdb5497962d4d21c78",
            "value": " 681M/681M [00:19&lt;00:00, 42.7MB/s]"
          }
        },
        "bf755fa83d41437c8baf93c77ac9ac26": {
          "model_module": "@jupyter-widgets/base",
          "model_name": "LayoutModel",
          "model_module_version": "1.2.0",
          "state": {
            "_model_module": "@jupyter-widgets/base",
            "_model_module_version": "1.2.0",
            "_model_name": "LayoutModel",
            "_view_count": null,
            "_view_module": "@jupyter-widgets/base",
            "_view_module_version": "1.2.0",
            "_view_name": "LayoutView",
            "align_content": null,
            "align_items": null,
            "align_self": null,
            "border": null,
            "bottom": null,
            "display": null,
            "flex": null,
            "flex_flow": null,
            "grid_area": null,
            "grid_auto_columns": null,
            "grid_auto_flow": null,
            "grid_auto_rows": null,
            "grid_column": null,
            "grid_gap": null,
            "grid_row": null,
            "grid_template_areas": null,
            "grid_template_columns": null,
            "grid_template_rows": null,
            "height": null,
            "justify_content": null,
            "justify_items": null,
            "left": null,
            "margin": null,
            "max_height": null,
            "max_width": null,
            "min_height": null,
            "min_width": null,
            "object_fit": null,
            "object_position": null,
            "order": null,
            "overflow": null,
            "overflow_x": null,
            "overflow_y": null,
            "padding": null,
            "right": null,
            "top": null,
            "visibility": null,
            "width": null
          }
        },
        "49957b669d744196b112883a40c925b4": {
          "model_module": "@jupyter-widgets/base",
          "model_name": "LayoutModel",
          "model_module_version": "1.2.0",
          "state": {
            "_model_module": "@jupyter-widgets/base",
            "_model_module_version": "1.2.0",
            "_model_name": "LayoutModel",
            "_view_count": null,
            "_view_module": "@jupyter-widgets/base",
            "_view_module_version": "1.2.0",
            "_view_name": "LayoutView",
            "align_content": null,
            "align_items": null,
            "align_self": null,
            "border": null,
            "bottom": null,
            "display": null,
            "flex": null,
            "flex_flow": null,
            "grid_area": null,
            "grid_auto_columns": null,
            "grid_auto_flow": null,
            "grid_auto_rows": null,
            "grid_column": null,
            "grid_gap": null,
            "grid_row": null,
            "grid_template_areas": null,
            "grid_template_columns": null,
            "grid_template_rows": null,
            "height": null,
            "justify_content": null,
            "justify_items": null,
            "left": null,
            "margin": null,
            "max_height": null,
            "max_width": null,
            "min_height": null,
            "min_width": null,
            "object_fit": null,
            "object_position": null,
            "order": null,
            "overflow": null,
            "overflow_x": null,
            "overflow_y": null,
            "padding": null,
            "right": null,
            "top": null,
            "visibility": null,
            "width": null
          }
        },
        "2f22b192c6b0468494a4d33c616d803a": {
          "model_module": "@jupyter-widgets/controls",
          "model_name": "DescriptionStyleModel",
          "model_module_version": "1.5.0",
          "state": {
            "_model_module": "@jupyter-widgets/controls",
            "_model_module_version": "1.5.0",
            "_model_name": "DescriptionStyleModel",
            "_view_count": null,
            "_view_module": "@jupyter-widgets/base",
            "_view_module_version": "1.2.0",
            "_view_name": "StyleView",
            "description_width": ""
          }
        },
        "d7271a27743f4ec09463be2df141802f": {
          "model_module": "@jupyter-widgets/base",
          "model_name": "LayoutModel",
          "model_module_version": "1.2.0",
          "state": {
            "_model_module": "@jupyter-widgets/base",
            "_model_module_version": "1.2.0",
            "_model_name": "LayoutModel",
            "_view_count": null,
            "_view_module": "@jupyter-widgets/base",
            "_view_module_version": "1.2.0",
            "_view_name": "LayoutView",
            "align_content": null,
            "align_items": null,
            "align_self": null,
            "border": null,
            "bottom": null,
            "display": null,
            "flex": null,
            "flex_flow": null,
            "grid_area": null,
            "grid_auto_columns": null,
            "grid_auto_flow": null,
            "grid_auto_rows": null,
            "grid_column": null,
            "grid_gap": null,
            "grid_row": null,
            "grid_template_areas": null,
            "grid_template_columns": null,
            "grid_template_rows": null,
            "height": null,
            "justify_content": null,
            "justify_items": null,
            "left": null,
            "margin": null,
            "max_height": null,
            "max_width": null,
            "min_height": null,
            "min_width": null,
            "object_fit": null,
            "object_position": null,
            "order": null,
            "overflow": null,
            "overflow_x": null,
            "overflow_y": null,
            "padding": null,
            "right": null,
            "top": null,
            "visibility": null,
            "width": null
          }
        },
        "ec8002a6ad624cfe83b4575665a7640b": {
          "model_module": "@jupyter-widgets/controls",
          "model_name": "ProgressStyleModel",
          "model_module_version": "1.5.0",
          "state": {
            "_model_module": "@jupyter-widgets/controls",
            "_model_module_version": "1.5.0",
            "_model_name": "ProgressStyleModel",
            "_view_count": null,
            "_view_module": "@jupyter-widgets/base",
            "_view_module_version": "1.2.0",
            "_view_name": "StyleView",
            "bar_color": null,
            "description_width": ""
          }
        },
        "8003f009e4194408a9f7e982e8bb4dfe": {
          "model_module": "@jupyter-widgets/base",
          "model_name": "LayoutModel",
          "model_module_version": "1.2.0",
          "state": {
            "_model_module": "@jupyter-widgets/base",
            "_model_module_version": "1.2.0",
            "_model_name": "LayoutModel",
            "_view_count": null,
            "_view_module": "@jupyter-widgets/base",
            "_view_module_version": "1.2.0",
            "_view_name": "LayoutView",
            "align_content": null,
            "align_items": null,
            "align_self": null,
            "border": null,
            "bottom": null,
            "display": null,
            "flex": null,
            "flex_flow": null,
            "grid_area": null,
            "grid_auto_columns": null,
            "grid_auto_flow": null,
            "grid_auto_rows": null,
            "grid_column": null,
            "grid_gap": null,
            "grid_row": null,
            "grid_template_areas": null,
            "grid_template_columns": null,
            "grid_template_rows": null,
            "height": null,
            "justify_content": null,
            "justify_items": null,
            "left": null,
            "margin": null,
            "max_height": null,
            "max_width": null,
            "min_height": null,
            "min_width": null,
            "object_fit": null,
            "object_position": null,
            "order": null,
            "overflow": null,
            "overflow_x": null,
            "overflow_y": null,
            "padding": null,
            "right": null,
            "top": null,
            "visibility": null,
            "width": null
          }
        },
        "c395f37bdd0f42fdb5497962d4d21c78": {
          "model_module": "@jupyter-widgets/controls",
          "model_name": "DescriptionStyleModel",
          "model_module_version": "1.5.0",
          "state": {
            "_model_module": "@jupyter-widgets/controls",
            "_model_module_version": "1.5.0",
            "_model_name": "DescriptionStyleModel",
            "_view_count": null,
            "_view_module": "@jupyter-widgets/base",
            "_view_module_version": "1.2.0",
            "_view_name": "StyleView",
            "description_width": ""
          }
        }
      }
    }
  },
  "nbformat": 4,
  "nbformat_minor": 0
}